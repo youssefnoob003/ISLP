{
 "cells": [
  {
   "cell_type": "code",
   "execution_count": 64,
   "id": "6e787a9f",
   "metadata": {},
   "outputs": [
    {
     "data": {
      "image/png": "[encoded data removed]",
      "text/plain": [
       "<Figure size 640x480 with 1 Axes>"
      ]
     },
     "metadata": {},
     "output_type": "display_data"
    }
   ],
   "source": [
    "import numpy as np\n",
    "\n",
    "rng = np.random.default_rng(1)\n",
    "\n",
    "X = rng.normal(size=100)\n",
    "epsilon = rng.normal(size=100)\n",
    "\n",
    "beta0 = 1\n",
    "beta1 = -1\n",
    "beta2 = 4\n",
    "beta3 = 2\n",
    "\n",
    "Y = beta0 + beta1*X + beta1*X + beta2*X**2 + beta3*X**3 + epsilon\n",
    "\n",
    "import pandas as pd\n",
    "\n",
    "df = pd.DataFrame({\n",
    "    \"X1\": X,\n",
    "    \"X2\": X**2,\n",
    "    \"X3\": X**3,\n",
    "    \"X4\": X**4,\n",
    "    \"X5\": X**5,\n",
    "    \"X6\": X**6,\n",
    "    \"X7\": X**7,\n",
    "    \"X8\": X**8,\n",
    "    \"X9\": X**9,\n",
    "    \"X10\": X**10,\n",
    "    \"Y\": Y\n",
    "})\n",
    "\n",
    "df.plot.scatter(\"X1\", \"Y\");"
   ]
  },
  {
   "cell_type": "code",
   "execution_count": 65,
   "id": "014d3a5d",
   "metadata": {},
   "outputs": [],
   "source": [
    "def nCp(sigma2, estimator, X, Y):\n",
    "    \"Negative Cp statistic\"\n",
    "    n, p = X.shape\n",
    "    Yhat = estimator.predict(X)\n",
    "    RSS = np.sum((Y - Yhat)**2)\n",
    "    return -(RSS + 2 * p * sigma2) / n "
   ]
  },
  {
   "cell_type": "code",
   "execution_count": 66,
   "id": "775423e4",
   "metadata": {},
   "outputs": [],
   "source": [
    "from functools import partial\n",
    "from ISLP.models import ModelSpec as MS\n",
    "import statsmodels.api as sm\n",
    "\n",
    "Y = df[\"Y\"]\n",
    "\n",
    "design = MS(df.columns.drop(\"Y\"))\n",
    "X = design.fit_transform(df)\n",
    "\n",
    "sigma2 = sm.OLS(Y, X).fit().scale\n",
    "\n",
    "neg_Cp = partial(nCp, sigma2)"
   ]
  },
  {
   "cell_type": "code",
   "execution_count": 67,
   "id": "a36796bc",
   "metadata": {},
   "outputs": [
    {
     "data": {
      "text/plain": [
       "('X1', 'X10', 'X2', 'X3')"
      ]
     },
     "execution_count": 67,
     "metadata": {},
     "output_type": "execute_result"
    }
   ],
   "source": [
    "from ISLP.models import Stepwise, sklearn_selected\n",
    "\n",
    "strategy = Stepwise.first_peak(design,\n",
    "                               direction='forward',\n",
    "                               max_terms=len(design.terms))\n",
    "\n",
    "df_selected = sklearn_selected(sm.OLS,\n",
    "                               strategy,\n",
    "                               scoring=neg_Cp)\n",
    "df_selected.fit(df, Y)\n",
    "df_selected.selected_state_"
   ]
  },
  {
   "cell_type": "code",
   "execution_count": 68,
   "id": "bba67d08",
   "metadata": {},
   "outputs": [
    {
     "data": {
      "text/html": [
       "<table class=\"simpletable\">\n",
       "<caption>OLS Regression Results</caption>\n",
       "<tr>\n",
       "  <th>Dep. Variable:</th>            <td>Y</td>        <th>  R-squared:         </th> <td>   0.959</td>\n",
       "</tr>\n",
       "<tr>\n",
       "  <th>Model:</th>                   <td>OLS</td>       <th>  Adj. R-squared:    </th> <td>   0.958</td>\n",
       "</tr>\n",
       "<tr>\n",
       "  <th>Method:</th>             <td>Least Squares</td>  <th>  F-statistic:       </th> <td>   560.7</td>\n",
       "</tr>\n",
       "<tr>\n",
       "  <th>Date:</th>             <td>Sun, 03 Aug 2025</td> <th>  Prob (F-statistic):</th> <td>3.91e-65</td>\n",
       "</tr>\n",
       "<tr>\n",
       "  <th>Time:</th>                 <td>21:55:41</td>     <th>  Log-Likelihood:    </th> <td> -135.03</td>\n",
       "</tr>\n",
       "<tr>\n",
       "  <th>No. Observations:</th>      <td>   100</td>      <th>  AIC:               </th> <td>   280.1</td>\n",
       "</tr>\n",
       "<tr>\n",
       "  <th>Df Residuals:</th>          <td>    95</td>      <th>  BIC:               </th> <td>   293.1</td>\n",
       "</tr>\n",
       "<tr>\n",
       "  <th>Df Model:</th>              <td>     4</td>      <th>                     </th>     <td> </td>   \n",
       "</tr>\n",
       "<tr>\n",
       "  <th>Covariance Type:</th>      <td>nonrobust</td>    <th>                     </th>     <td> </td>   \n",
       "</tr>\n",
       "</table>\n",
       "<table class=\"simpletable\">\n",
       "<tr>\n",
       "      <td></td>         <th>coef</th>     <th>std err</th>      <th>t</th>      <th>P>|t|</th>  <th>[0.025</th>    <th>0.975]</th>  \n",
       "</tr>\n",
       "<tr>\n",
       "  <th>intercept</th> <td>    1.0534</td> <td>    0.119</td> <td>    8.853</td> <td> 0.000</td> <td>    0.817</td> <td>    1.290</td>\n",
       "</tr>\n",
       "<tr>\n",
       "  <th>X1</th>        <td>   -2.2244</td> <td>    0.206</td> <td>  -10.805</td> <td> 0.000</td> <td>   -2.633</td> <td>   -1.816</td>\n",
       "</tr>\n",
       "<tr>\n",
       "  <th>X10</th>       <td>    0.0003</td> <td> 8.16e-05</td> <td>    3.304</td> <td> 0.001</td> <td>    0.000</td> <td>    0.000</td>\n",
       "</tr>\n",
       "<tr>\n",
       "  <th>X2</th>        <td>    3.7590</td> <td>    0.111</td> <td>   33.847</td> <td> 0.000</td> <td>    3.538</td> <td>    3.979</td>\n",
       "</tr>\n",
       "<tr>\n",
       "  <th>X3</th>        <td>    2.1119</td> <td>    0.078</td> <td>   27.003</td> <td> 0.000</td> <td>    1.957</td> <td>    2.267</td>\n",
       "</tr>\n",
       "</table>\n",
       "<table class=\"simpletable\">\n",
       "<tr>\n",
       "  <th>Omnibus:</th>       <td> 2.731</td> <th>  Durbin-Watson:     </th> <td>   2.149</td>\n",
       "</tr>\n",
       "<tr>\n",
       "  <th>Prob(Omnibus):</th> <td> 0.255</td> <th>  Jarque-Bera (JB):  </th> <td>   2.548</td>\n",
       "</tr>\n",
       "<tr>\n",
       "  <th>Skew:</th>          <td> 0.072</td> <th>  Prob(JB):          </th> <td>   0.280</td>\n",
       "</tr>\n",
       "<tr>\n",
       "  <th>Kurtosis:</th>      <td> 3.769</td> <th>  Cond. No.          </th> <td>4.98e+03</td>\n",
       "</tr>\n",
       "</table><br/><br/>Notes:<br/>[1] Standard Errors assume that the covariance matrix of the errors is correctly specified.<br/>[2] The condition number is large, 4.98e+03. This might indicate that there are<br/>strong multicollinearity or other numerical problems."
      ],
      "text/latex": [
       "\\begin{center}\n",
       "\\begin{tabular}{lclc}\n",
       "\\toprule\n",
       "\\textbf{Dep. Variable:}    &        Y         & \\textbf{  R-squared:         } &     0.959   \\\\\n",
       "\\textbf{Model:}            &       OLS        & \\textbf{  Adj. R-squared:    } &     0.958   \\\\\n",
       "\\textbf{Method:}           &  Least Squares   & \\textbf{  F-statistic:       } &     560.7   \\\\\n",
       "\\textbf{Date:}             & Sun, 03 Aug 2025 & \\textbf{  Prob (F-statistic):} &  3.91e-65   \\\\\n",
       "\\textbf{Time:}             &     21:55:41     & \\textbf{  Log-Likelihood:    } &   -135.03   \\\\\n",
       "\\textbf{No. Observations:} &         100      & \\textbf{  AIC:               } &     280.1   \\\\\n",
       "\\textbf{Df Residuals:}     &          95      & \\textbf{  BIC:               } &     293.1   \\\\\n",
       "\\textbf{Df Model:}         &           4      & \\textbf{                     } &             \\\\\n",
       "\\textbf{Covariance Type:}  &    nonrobust     & \\textbf{                     } &             \\\\\n",
       "\\bottomrule\n",
       "\\end{tabular}\n",
       "\\begin{tabular}{lcccccc}\n",
       "                   & \\textbf{coef} & \\textbf{std err} & \\textbf{t} & \\textbf{P$> |$t$|$} & \\textbf{[0.025} & \\textbf{0.975]}  \\\\\n",
       "\\midrule\n",
       "\\textbf{intercept} &       1.0534  &        0.119     &     8.853  &         0.000        &        0.817    &        1.290     \\\\\n",
       "\\textbf{X1}        &      -2.2244  &        0.206     &   -10.805  &         0.000        &       -2.633    &       -1.816     \\\\\n",
       "\\textbf{X10}       &       0.0003  &     8.16e-05     &     3.304  &         0.001        &        0.000    &        0.000     \\\\\n",
       "\\textbf{X2}        &       3.7590  &        0.111     &    33.847  &         0.000        &        3.538    &        3.979     \\\\\n",
       "\\textbf{X3}        &       2.1119  &        0.078     &    27.003  &         0.000        &        1.957    &        2.267     \\\\\n",
       "\\bottomrule\n",
       "\\end{tabular}\n",
       "\\begin{tabular}{lclc}\n",
       "\\textbf{Omnibus:}       &  2.731 & \\textbf{  Durbin-Watson:     } &    2.149  \\\\\n",
       "\\textbf{Prob(Omnibus):} &  0.255 & \\textbf{  Jarque-Bera (JB):  } &    2.548  \\\\\n",
       "\\textbf{Skew:}          &  0.072 & \\textbf{  Prob(JB):          } &    0.280  \\\\\n",
       "\\textbf{Kurtosis:}      &  3.769 & \\textbf{  Cond. No.          } & 4.98e+03  \\\\\n",
       "\\bottomrule\n",
       "\\end{tabular}\n",
       "%\\caption{OLS Regression Results}\n",
       "\\end{center}\n",
       "\n",
       "Notes: \\newline\n",
       " [1] Standard Errors assume that the covariance matrix of the errors is correctly specified. \\newline\n",
       " [2] The condition number is large, 4.98e+03. This might indicate that there are \\newline\n",
       " strong multicollinearity or other numerical problems."
      ],
      "text/plain": [
       "<class 'statsmodels.iolib.summary.Summary'>\n",
       "\"\"\"\n",
       "                            OLS Regression Results                            \n",
       "==============================================================================\n",
       "Dep. Variable:                      Y   R-squared:                       0.959\n",
       "Model:                            OLS   Adj. R-squared:                  0.958\n",
       "Method:                 Least Squares   F-statistic:                     560.7\n",
       "Date:                Sun, 03 Aug 2025   Prob (F-statistic):           3.91e-65\n",
       "Time:                        21:55:41   Log-Likelihood:                -135.03\n",
       "No. Observations:                 100   AIC:                             280.1\n",
       "Df Residuals:                      95   BIC:                             293.1\n",
       "Df Model:                           4                                         \n",
       "Covariance Type:            nonrobust                                         \n",
       "==============================================================================\n",
       "                 coef    std err          t      P>|t|      [0.025      0.975]\n",
       "------------------------------------------------------------------------------\n",
       "intercept      1.0534      0.119      8.853      0.000       0.817       1.290\n",
       "X1            -2.2244      0.206    -10.805      0.000      -2.633      -1.816\n",
       "X10            0.0003   8.16e-05      3.304      0.001       0.000       0.000\n",
       "X2             3.7590      0.111     33.847      0.000       3.538       3.979\n",
       "X3             2.1119      0.078     27.003      0.000       1.957       2.267\n",
       "==============================================================================\n",
       "Omnibus:                        2.731   Durbin-Watson:                   2.149\n",
       "Prob(Omnibus):                  0.255   Jarque-Bera (JB):                2.548\n",
       "Skew:                           0.072   Prob(JB):                        0.280\n",
       "Kurtosis:                       3.769   Cond. No.                     4.98e+03\n",
       "==============================================================================\n",
       "\n",
       "Notes:\n",
       "[1] Standard Errors assume that the covariance matrix of the errors is correctly specified.\n",
       "[2] The condition number is large, 4.98e+03. This might indicate that there are\n",
       "strong multicollinearity or other numerical problems.\n",
       "\"\"\""
      ]
     },
     "execution_count": 68,
     "metadata": {},
     "output_type": "execute_result"
    }
   ],
   "source": [
    "df_selected.model_.fit().summary()"
   ]
  },
  {
   "cell_type": "code",
   "execution_count": 69,
   "id": "e2630ebd",
   "metadata": {},
   "outputs": [
    {
     "data": {
      "text/plain": [
       "('X1', 'X10', 'X2', 'X3')"
      ]
     },
     "execution_count": 69,
     "metadata": {},
     "output_type": "execute_result"
    }
   ],
   "source": [
    "strategy = Stepwise.first_peak(design,\n",
    "                               direction='backwards',\n",
    "                               max_terms=len(design.terms))\n",
    "\n",
    "df_selected = sklearn_selected(sm.OLS,\n",
    "                               strategy,\n",
    "                               scoring=neg_Cp)\n",
    "df_selected.fit(df, Y)\n",
    "df_selected.selected_state_"
   ]
  },
  {
   "cell_type": "markdown",
   "id": "8d4f3366",
   "metadata": {},
   "source": [
    "Both approaches weirdly picked $X^{10}$ as a significant predictor. This is probably due to the noise in our data. Its p-value is also suprisingly significant, making it a clear case of an overfitting model."
   ]
  },
  {
   "cell_type": "code",
   "execution_count": 70,
   "id": "7fdb822f",
   "metadata": {},
   "outputs": [
    {
     "data": {
      "text/plain": [
       "np.float64(0.017425696359689727)"
      ]
     },
     "execution_count": 70,
     "metadata": {},
     "output_type": "execute_result"
    }
   ],
   "source": [
    "import sklearn.linear_model as skl\n",
    "from sklearn.pipeline import Pipeline\n",
    "from sklearn.preprocessing import StandardScaler\n",
    "import sklearn.model_selection as skm\n",
    "\n",
    "lambdas = 10**np.linspace(8, -2, 100) / Y.std()\n",
    "\n",
    "scaler = StandardScaler(with_mean=True,  with_std=True)\n",
    "\n",
    "K = 5\n",
    "kfold = skm.KFold(K,\n",
    "                  random_state=0,\n",
    "                  shuffle=True)\n",
    "\n",
    "\n",
    "lasso = skl.ElasticNetCV(alphas=lambdas, \n",
    "                           l1_ratio=1,\n",
    "                           cv=kfold)\n",
    "\n",
    "pipe = Pipeline(steps=[('scaler', scaler),\n",
    "                         ('lasso', lasso)])\n",
    "pipe.fit(X, Y)\n",
    "\n",
    "tuned_lasso = pipe.named_steps['lasso']\n",
    "tuned_lasso.alpha_\n"
   ]
  },
  {
   "cell_type": "code",
   "execution_count": 71,
   "id": "1439e3a3",
   "metadata": {},
   "outputs": [
    {
     "data": {
      "text/plain": [
       "array([ 0.        , -1.70798938,  4.43804126,  5.67997123,  0.        ,\n",
       "        0.25552816,  0.        ,  0.        ,  0.        , -0.        ,\n",
       "        0.56444183])"
      ]
     },
     "execution_count": 71,
     "metadata": {},
     "output_type": "execute_result"
    }
   ],
   "source": [
    "tuned_lasso.coef_"
   ]
  },
  {
   "cell_type": "code",
   "execution_count": 72,
   "id": "227543e4",
   "metadata": {},
   "outputs": [
    {
     "data": {
      "image/png": "[encoded data removed]",
      "text/plain": [
       "<Figure size 800x500 with 1 Axes>"
      ]
     },
     "metadata": {},
     "output_type": "display_data"
    }
   ],
   "source": [
    "import matplotlib.pyplot as plt\n",
    "import numpy as np\n",
    "\n",
    "mean_cv_error = tuned_lasso.mse_path_.mean(axis=1)\n",
    "lambdas = tuned_lasso.alphas_\n",
    "\n",
    "plt.figure(figsize=(8, 5))\n",
    "plt.plot(np.log10(lambdas), mean_cv_error, marker='o')\n",
    "plt.axvline(np.log10(tuned_lasso.alpha_), c='b', ls='--')\n",
    "plt.xlabel('log10(lambda)')\n",
    "plt.ylabel('Mean CV Error')\n",
    "plt.title('Cross-Validation Error vs log10(lambda)')\n",
    "plt.grid(True)\n",
    "plt.show()"
   ]
  },
  {
   "cell_type": "markdown",
   "id": "7bd277f9",
   "metadata": {},
   "source": [
    "Now, we can still that the $X, X^2, X^3$ got picked, as expected. This time also, like the forward and backward stepwise, $X^{10}$ got picked too, along with $X^5$. This demonstrates that such approaches aren't 100% reliable and may require further analysis and testings before validating the model, since the resulting model would overfit on real data."
   ]
  },
  {
   "cell_type": "code",
   "execution_count": 73,
   "id": "7cc75236",
   "metadata": {},
   "outputs": [
    {
     "data": {
      "image/png": "[encoded data removed]",
      "text/plain": [
       "<Figure size 640x480 with 1 Axes>"
      ]
     },
     "metadata": {},
     "output_type": "display_data"
    }
   ],
   "source": [
    "X = rng.normal(size=100)\n",
    "epsilon = rng.normal(size=100)\n",
    "\n",
    "beta0 = 1\n",
    "beta7 = 4\n",
    "\n",
    "Y = beta0 + beta7*X**7 + epsilon\n",
    "\n",
    "import pandas as pd\n",
    "\n",
    "df = pd.DataFrame({\n",
    "    \"X1\": X,\n",
    "    \"X2\": X**2,\n",
    "    \"X3\": X**3,\n",
    "    \"X4\": X**4,\n",
    "    \"X5\": X**5,\n",
    "    \"X6\": X**6,\n",
    "    \"X7\": X**7,\n",
    "    \"X8\": X**8,\n",
    "    \"X9\": X**9,\n",
    "    \"X10\": X**10,\n",
    "    \"Y\": Y\n",
    "})\n",
    "\n",
    "df.plot.scatter(\"X1\", \"Y\");"
   ]
  },
  {
   "cell_type": "code",
   "execution_count": 74,
   "id": "5760183d",
   "metadata": {},
   "outputs": [],
   "source": [
    "Y = df[\"Y\"]\n",
    "\n",
    "design = MS(df.columns.drop(\"Y\"))\n",
    "X = design.fit_transform(df)\n",
    "\n",
    "sigma2 = sm.OLS(Y, X).fit().scale\n",
    "\n",
    "neg_Cp = partial(nCp, sigma2)"
   ]
  },
  {
   "cell_type": "code",
   "execution_count": 75,
   "id": "87740e47",
   "metadata": {},
   "outputs": [
    {
     "data": {
      "text/plain": [
       "('X7',)"
      ]
     },
     "execution_count": 75,
     "metadata": {},
     "output_type": "execute_result"
    }
   ],
   "source": [
    "strategy = Stepwise.first_peak(design,\n",
    "                               direction='forward',\n",
    "                               max_terms=len(design.terms))\n",
    "\n",
    "df_selected = sklearn_selected(sm.OLS,\n",
    "                               strategy,\n",
    "                               scoring=neg_Cp)\n",
    "df_selected.fit(df, Y)\n",
    "df_selected.selected_state_"
   ]
  },
  {
   "cell_type": "code",
   "execution_count": 76,
   "id": "f979f96f",
   "metadata": {},
   "outputs": [
    {
     "data": {
      "text/plain": [
       "np.float64(0.0021483212939550915)"
      ]
     },
     "execution_count": 76,
     "metadata": {},
     "output_type": "execute_result"
    }
   ],
   "source": [
    "lasso = skl.ElasticNetCV(alphas=lambdas, \n",
    "                           l1_ratio=1,\n",
    "                           cv=kfold)\n",
    "\n",
    "pipe = Pipeline(steps=[('scaler', scaler),\n",
    "                         ('lasso', lasso)])\n",
    "pipe.fit(X, Y)\n",
    "\n",
    "tuned_lasso = pipe.named_steps['lasso']\n",
    "tuned_lasso.alpha_"
   ]
  },
  {
   "cell_type": "code",
   "execution_count": 77,
   "id": "39ae7b80",
   "metadata": {},
   "outputs": [
    {
     "data": {
      "text/plain": [
       "array([   0.        ,   24.5875437 ,  -12.60622314, -230.01010302,\n",
       "        -14.77820902,  717.65464908,   83.10709667,  374.1374837 ,\n",
       "          6.21131389,  190.72144223,  -23.18710828])"
      ]
     },
     "execution_count": 77,
     "metadata": {},
     "output_type": "execute_result"
    }
   ],
   "source": [
    "tuned_lasso.coef_"
   ]
  },
  {
   "cell_type": "markdown",
   "id": "4f1035d8",
   "metadata": {},
   "source": [
    "In the given simulation, the true model includes only the $X^7$ term, which forward stepwise regression correctly identifies as the sole predictor. However, when using Lasso (via **ElasticNetCV** with **l1_ratio=1**), the model assigns nonzero coefficients to several polynomial terms from $X^2$ to $X^{10}$. This discrepancy arises primarily due to multicollinearity: powers of $X$ are highly correlated, and Lasso tends to distribute coefficient weight across correlated predictors rather than selecting just one. Additionally, since Lasso minimizes prediction error with an $L_1$ penalty, it may include multiple terms that slightly improve cross-validated performance, even if they are not truly part of the underlying data-generating process. Feature standardization (using **StandardScaler**) is necessary for Lasso but can amplify this effect by equalizing feature scales, making it harder for Lasso to distinguish among highly correlated inputs. In contrast, forward stepwise selects predictors sequentially based on maximal improvement, which in this clean simulation correctly isolates the signal from $X^7$."
   ]
  }
 ],
 "metadata": {
  "kernelspec": {
   "display_name": ".venv",
   "language": "python",
   "name": "python3"
  },
  "language_info": {
   "codemirror_mode": {
    "name": "ipython",
    "version": 3
   },
   "file_extension": ".py",
   "mimetype": "text/x-python",
   "name": "python",
   "nbconvert_exporter": "python",
   "pygments_lexer": "ipython3",
   "version": "3.13.3"
  }
 },
 "nbformat": 4,
 "nbformat_minor": 5
}
