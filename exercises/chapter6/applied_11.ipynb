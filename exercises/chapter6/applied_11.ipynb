{
 "cells": [
  {
   "cell_type": "code",
   "execution_count": 7,
   "id": "ff86e753",
   "metadata": {},
   "outputs": [
    {
     "data": {
      "text/html": [
       "<div>\n",
       "<style scoped>\n",
       "    .dataframe tbody tr th:only-of-type {\n",
       "        vertical-align: middle;\n",
       "    }\n",
       "\n",
       "    .dataframe tbody tr th {\n",
       "        vertical-align: top;\n",
       "    }\n",
       "\n",
       "    .dataframe thead th {\n",
       "        text-align: right;\n",
       "    }\n",
       "</style>\n",
       "<table border=\"1\" class=\"dataframe\">\n",
       "  <thead>\n",
       "    <tr style=\"text-align: right;\">\n",
       "      <th></th>\n",
       "      <th>crim</th>\n",
       "      <th>zn</th>\n",
       "      <th>indus</th>\n",
       "      <th>chas</th>\n",
       "      <th>nox</th>\n",
       "      <th>rm</th>\n",
       "      <th>age</th>\n",
       "      <th>dis</th>\n",
       "      <th>rad</th>\n",
       "      <th>tax</th>\n",
       "      <th>ptratio</th>\n",
       "      <th>lstat</th>\n",
       "      <th>medv</th>\n",
       "    </tr>\n",
       "    <tr>\n",
       "      <th>Id</th>\n",
       "      <th></th>\n",
       "      <th></th>\n",
       "      <th></th>\n",
       "      <th></th>\n",
       "      <th></th>\n",
       "      <th></th>\n",
       "      <th></th>\n",
       "      <th></th>\n",
       "      <th></th>\n",
       "      <th></th>\n",
       "      <th></th>\n",
       "      <th></th>\n",
       "      <th></th>\n",
       "    </tr>\n",
       "  </thead>\n",
       "  <tbody>\n",
       "    <tr>\n",
       "      <th>1</th>\n",
       "      <td>0.00632</td>\n",
       "      <td>18.0</td>\n",
       "      <td>2.31</td>\n",
       "      <td>0</td>\n",
       "      <td>0.538</td>\n",
       "      <td>6.575</td>\n",
       "      <td>65.2</td>\n",
       "      <td>4.0900</td>\n",
       "      <td>1</td>\n",
       "      <td>296</td>\n",
       "      <td>15.3</td>\n",
       "      <td>4.98</td>\n",
       "      <td>24.0</td>\n",
       "    </tr>\n",
       "    <tr>\n",
       "      <th>2</th>\n",
       "      <td>0.02731</td>\n",
       "      <td>0.0</td>\n",
       "      <td>7.07</td>\n",
       "      <td>0</td>\n",
       "      <td>0.469</td>\n",
       "      <td>6.421</td>\n",
       "      <td>78.9</td>\n",
       "      <td>4.9671</td>\n",
       "      <td>2</td>\n",
       "      <td>242</td>\n",
       "      <td>17.8</td>\n",
       "      <td>9.14</td>\n",
       "      <td>21.6</td>\n",
       "    </tr>\n",
       "    <tr>\n",
       "      <th>3</th>\n",
       "      <td>0.02729</td>\n",
       "      <td>0.0</td>\n",
       "      <td>7.07</td>\n",
       "      <td>0</td>\n",
       "      <td>0.469</td>\n",
       "      <td>7.185</td>\n",
       "      <td>61.1</td>\n",
       "      <td>4.9671</td>\n",
       "      <td>2</td>\n",
       "      <td>242</td>\n",
       "      <td>17.8</td>\n",
       "      <td>4.03</td>\n",
       "      <td>34.7</td>\n",
       "    </tr>\n",
       "    <tr>\n",
       "      <th>4</th>\n",
       "      <td>0.03237</td>\n",
       "      <td>0.0</td>\n",
       "      <td>2.18</td>\n",
       "      <td>0</td>\n",
       "      <td>0.458</td>\n",
       "      <td>6.998</td>\n",
       "      <td>45.8</td>\n",
       "      <td>6.0622</td>\n",
       "      <td>3</td>\n",
       "      <td>222</td>\n",
       "      <td>18.7</td>\n",
       "      <td>2.94</td>\n",
       "      <td>33.4</td>\n",
       "    </tr>\n",
       "    <tr>\n",
       "      <th>5</th>\n",
       "      <td>0.06905</td>\n",
       "      <td>0.0</td>\n",
       "      <td>2.18</td>\n",
       "      <td>0</td>\n",
       "      <td>0.458</td>\n",
       "      <td>7.147</td>\n",
       "      <td>54.2</td>\n",
       "      <td>6.0622</td>\n",
       "      <td>3</td>\n",
       "      <td>222</td>\n",
       "      <td>18.7</td>\n",
       "      <td>5.33</td>\n",
       "      <td>36.2</td>\n",
       "    </tr>\n",
       "  </tbody>\n",
       "</table>\n",
       "</div>"
      ],
      "text/plain": [
       "       crim    zn  indus  chas    nox     rm   age     dis  rad  tax  ptratio  \\\n",
       "Id                                                                              \n",
       "1   0.00632  18.0   2.31     0  0.538  6.575  65.2  4.0900    1  296     15.3   \n",
       "2   0.02731   0.0   7.07     0  0.469  6.421  78.9  4.9671    2  242     17.8   \n",
       "3   0.02729   0.0   7.07     0  0.469  7.185  61.1  4.9671    2  242     17.8   \n",
       "4   0.03237   0.0   2.18     0  0.458  6.998  45.8  6.0622    3  222     18.7   \n",
       "5   0.06905   0.0   2.18     0  0.458  7.147  54.2  6.0622    3  222     18.7   \n",
       "\n",
       "    lstat  medv  \n",
       "Id               \n",
       "1    4.98  24.0  \n",
       "2    9.14  21.6  \n",
       "3    4.03  34.7  \n",
       "4    2.94  33.4  \n",
       "5    5.33  36.2  "
      ]
     },
     "execution_count": 7,
     "metadata": {},
     "output_type": "execute_result"
    }
   ],
   "source": [
    "import pandas as pd\n",
    "import numpy as np\n",
    "import matplotlib.pyplot as plt\n",
    "import seaborn as sns\n",
    "from sklearn.model_selection import train_test_split, cross_val_score, KFold\n",
    "from sklearn.linear_model import LinearRegression, RidgeCV, LassoCV\n",
    "from sklearn.decomposition import PCA\n",
    "from sklearn.preprocessing import StandardScaler\n",
    "from sklearn.metrics import mean_squared_error\n",
    "import statsmodels.api as sm\n",
    "\n",
    "boston = pd.read_csv(\"../../data/Boston.csv\").rename({\"Unnamed: 0\": \"Id\"}, axis=1).set_index(\"Id\")\n",
    "boston.head()"
   ]
  },
  {
   "cell_type": "code",
   "execution_count": 8,
   "id": "3c95d6ed",
   "metadata": {},
   "outputs": [
    {
     "name": "stdout",
     "output_type": "stream",
     "text": [
      "Train shape: (354, 12), Test shape: (152, 12)\n"
     ]
    }
   ],
   "source": [
    "X = boston.drop('crim', axis=1)\n",
    "y = boston['crim']\n",
    "\n",
    "X_train, X_test, y_train, y_test = train_test_split(X, y, test_size=0.3, random_state=1)\n",
    "print(f'Train shape: {X_train.shape}, Test shape: {X_test.shape}')"
   ]
  },
  {
   "cell_type": "markdown",
   "id": "7b72f29c",
   "metadata": {},
   "source": [
    "### Best Subset Selection"
   ]
  },
  {
   "cell_type": "code",
   "execution_count": 9,
   "id": "58fa322e",
   "metadata": {},
   "outputs": [
    {
     "name": "stdout",
     "output_type": "stream",
     "text": [
      "Best subset: ('zn', 'nox', 'dis', 'rad', 'lstat')\n",
      "CV MSE: 39.93106567184801\n"
     ]
    }
   ],
   "source": [
    "from itertools import combinations\n",
    "from sklearn.base import clone\n",
    "\n",
    "def best_subset_selection(X, y, max_features=5):\n",
    "    results = []\n",
    "    for k in range(1, max_features+1):\n",
    "        for combo in combinations(X.columns, k):\n",
    "            X_subset = X[list(combo)]\n",
    "            model = LinearRegression()\n",
    "            scores = cross_val_score(model, X_subset, y, cv=5, scoring='neg_mean_squared_error')\n",
    "            results.append({'features': combo, 'score': -scores.mean()})\n",
    "    best = min(results, key=lambda x: x['score'])\n",
    "    return best, results\n",
    "\n",
    "# Limit to 5 features for computational reasons\n",
    "best, all_results = best_subset_selection(X_train, y_train, max_features=5)\n",
    "print('Best subset:', best['features'])\n",
    "print('CV MSE:', best['score'])"
   ]
  },
  {
   "cell_type": "markdown",
   "id": "145d81e6",
   "metadata": {},
   "source": [
    "### Lasso Regression"
   ]
  },
  {
   "cell_type": "code",
   "execution_count": 10,
   "id": "6076fed1",
   "metadata": {},
   "outputs": [
    {
     "name": "stdout",
     "output_type": "stream",
     "text": [
      "Best alpha: 0.023741910636735197\n",
      "Number of nonzero coefficients: 11\n",
      "Test MSE (Lasso): 50.23534559282834\n"
     ]
    }
   ],
   "source": [
    "# Standardize predictors for Lasso\n",
    "scaler = StandardScaler()\n",
    "X_train_scaled = scaler.fit_transform(X_train)\n",
    "X_test_scaled = scaler.transform(X_test)\n",
    "\n",
    "lasso = LassoCV(cv=5, random_state=1)\n",
    "lasso.fit(X_train_scaled, y_train)\n",
    "\n",
    "print('Best alpha:', lasso.alpha_)\n",
    "print('Number of nonzero coefficients:', np.sum(lasso.coef_ != 0))\n",
    "\n",
    "y_pred_lasso = lasso.predict(X_test_scaled)\n",
    "mse_lasso = mean_squared_error(y_test, y_pred_lasso)\n",
    "print('Test MSE (Lasso):', mse_lasso)"
   ]
  },
  {
   "cell_type": "markdown",
   "id": "e69c261a",
   "metadata": {},
   "source": [
    "### Ridge Regression"
   ]
  },
  {
   "cell_type": "code",
   "execution_count": 11,
   "id": "a604354d",
   "metadata": {},
   "outputs": [
    {
     "name": "stdout",
     "output_type": "stream",
     "text": [
      "Best alpha: 35.111917342151344\n",
      "Test MSE (Ridge): 50.29278805173746\n"
     ]
    }
   ],
   "source": [
    "ridge = RidgeCV(alphas=np.logspace(-3, 3, 100), cv=5)\n",
    "ridge.fit(X_train_scaled, y_train)\n",
    "\n",
    "print('Best alpha:', ridge.alpha_)\n",
    "\n",
    "y_pred_ridge = ridge.predict(X_test_scaled)\n",
    "mse_ridge = mean_squared_error(y_test, y_pred_ridge)\n",
    "print('Test MSE (Ridge):', mse_ridge)"
   ]
  },
  {
   "cell_type": "markdown",
   "id": "9b48b9d8",
   "metadata": {},
   "source": [
    "### Principal Components Regression (PCR)"
   ]
  },
  {
   "cell_type": "code",
   "execution_count": 12,
   "id": "17682deb",
   "metadata": {},
   "outputs": [
    {
     "name": "stdout",
     "output_type": "stream",
     "text": [
      "Best number of components: 12\n",
      "Test MSE (PCR): 50.51047624630783\n"
     ]
    }
   ],
   "source": [
    "# PCR: Find optimal number of components by cross-validation\n",
    "mse_pcr = []\n",
    "n_components = X_train.shape[1]\n",
    "for k in range(1, n_components+1):\n",
    "    pca = PCA(n_components=k)\n",
    "    X_train_pca = pca.fit_transform(X_train_scaled)\n",
    "    X_test_pca = pca.transform(X_test_scaled)\n",
    "    model = LinearRegression()\n",
    "    model.fit(X_train_pca, y_train)\n",
    "    y_pred = model.predict(X_test_pca)\n",
    "    mse = mean_squared_error(y_test, y_pred)\n",
    "    mse_pcr.append(mse)\n",
    "\n",
    "best_k = np.argmin(mse_pcr) + 1\n",
    "print('Best number of components:', best_k)\n",
    "print('Test MSE (PCR):', mse_pcr[best_k-1])"
   ]
  },
  {
   "cell_type": "markdown",
   "id": "cb627dfc",
   "metadata": {},
   "source": [
    "Among the methods tested to predict **crim** in the Boston dataset, best subset selection achieved the lowest cross-validated MSE (≈39.93) using only five predictors (**zn**, **nox**, **dis**, **rad**, **lstat**), indicating strong performance with a simple model. Lasso and ridge regression both produced similar test MSEs (≈50.24 and ≈50.29, respectively), with lasso selecting a sparse set of 11 coefficients. PCR, using 12 components, performed slightly worse (≈50.51). Overall, best subset selection outperformed the regularized and dimensionality reduction approaches in this setting, offering both accuracy and interpretability."
   ]
  }
 ],
 "metadata": {
  "kernelspec": {
   "display_name": ".venv",
   "language": "python",
   "name": "python3"
  },
  "language_info": {
   "codemirror_mode": {
    "name": "ipython",
    "version": 3
   },
   "file_extension": ".py",
   "mimetype": "text/x-python",
   "name": "python",
   "nbconvert_exporter": "python",
   "pygments_lexer": "ipython3",
   "version": "3.13.3"
  }
 },
 "nbformat": 4,
 "nbformat_minor": 5
}
