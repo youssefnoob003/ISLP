{
 "cells": [
  {
   "cell_type": "code",
   "execution_count": 57,
   "id": "02626bbe",
   "metadata": {},
   "outputs": [
    {
     "data": {
      "text/plain": [
       "np.float64(22.532806324110677)"
      ]
     },
     "execution_count": 57,
     "metadata": {},
     "output_type": "execute_result"
    }
   ],
   "source": [
    "import pandas as pd\n",
    "\n",
    "boston = pd.read_csv(\"../../data/Boston.csv\").rename({\"Unnamed: 0\": \"Id\"}, axis=1).set_index(\"Id\")\n",
    "u = boston[\"medv\"].mean()\n",
    "u"
   ]
  },
  {
   "cell_type": "code",
   "execution_count": 58,
   "id": "d4608f2e",
   "metadata": {},
   "outputs": [
    {
     "data": {
      "text/plain": [
       "np.float64(0.40886114749753505)"
      ]
     },
     "execution_count": 58,
     "metadata": {},
     "output_type": "execute_result"
    }
   ],
   "source": [
    "import numpy as np\n",
    "se_medv = boston['medv'].std(ddof=1) / np.sqrt(len(boston))\n",
    "se_medv"
   ]
  },
  {
   "cell_type": "markdown",
   "id": "c8b48809",
   "metadata": {},
   "source": [
    "With an estimated value of 22.53 and a std error of 0.4, this estimate can be trusted. Our mean value would probably be between 22 and 23."
   ]
  },
  {
   "cell_type": "code",
   "execution_count": 59,
   "id": "9dbd4c59",
   "metadata": {},
   "outputs": [],
   "source": [
    "def boot_fn(data: pd.DataFrame, idx, mean_med = 1):\n",
    "    df = data.loc[idx]\n",
    "    if mean_med == 1:\n",
    "        return df[\"medv\"].mean()\n",
    "    elif mean_med == 0:\n",
    "        return df[\"medv\"].median()\n",
    "    else:\n",
    "        return np.percentile(df[\"medv\"], 10)"
   ]
  },
  {
   "cell_type": "code",
   "execution_count": 60,
   "id": "97b034c7",
   "metadata": {},
   "outputs": [
    {
     "name": "stdout",
     "output_type": "stream",
     "text": [
      "Standard Error (bootstrap):0.4125347675099613\n"
     ]
    }
   ],
   "source": [
    "B = 1000\n",
    "n = boston.shape[0]\n",
    "rng = np.random.default_rng(0)\n",
    "\n",
    "means = np.zeros(B)\n",
    "\n",
    "for i in range(B):\n",
    "    idx = rng.choice(boston.index, size=n, replace=True)\n",
    "    means[i] = boot_fn(boston, idx)\n",
    "\n",
    "se = means.std(ddof=0)\n",
    "\n",
    "print(\"Standard Error (bootstrap):\" + str(se))"
   ]
  },
  {
   "cell_type": "markdown",
   "id": "ea7a82c1",
   "metadata": {},
   "source": [
    "The bootstrap returned an estimate slightly higher then the original, by almost 0.01."
   ]
  },
  {
   "cell_type": "code",
   "execution_count": 61,
   "id": "8bf58b1d",
   "metadata": {},
   "outputs": [
    {
     "data": {
      "text/plain": [
       "(np.float64(21.707736789090752), np.float64(23.3578758591306))"
      ]
     },
     "execution_count": 61,
     "metadata": {},
     "output_type": "execute_result"
    }
   ],
   "source": [
    "mean_medv = boston['medv'].mean()\n",
    "\n",
    "ci_lower = mean_medv - 2 * se\n",
    "ci_upper = mean_medv + 2 * se\n",
    "\n",
    "(ci_lower, ci_upper)"
   ]
  },
  {
   "cell_type": "code",
   "execution_count": 62,
   "id": "1fd9880b",
   "metadata": {},
   "outputs": [
    {
     "data": {
      "text/plain": [
       "(np.float64(21.715084029115605), np.float64(23.35052861910575))"
      ]
     },
     "execution_count": 62,
     "metadata": {},
     "output_type": "execute_result"
    }
   ],
   "source": [
    "ci_formula_lower = mean_medv - 2 * se_medv\n",
    "ci_formula_upper = mean_medv + 2 * se_medv\n",
    "\n",
    "(ci_formula_lower, ci_formula_upper)\n"
   ]
  },
  {
   "cell_type": "markdown",
   "id": "063df117",
   "metadata": {},
   "source": [
    "The results are very close, confirming that the bootstrap provides a reliable estimate. Both intervals suggest that the population mean of median housing value lies comfortably between 21.7 and 23.4. The small difference (≈0.01) is expected due to the randomness in resampling."
   ]
  },
  {
   "cell_type": "code",
   "execution_count": 63,
   "id": "bc32f542",
   "metadata": {},
   "outputs": [
    {
     "data": {
      "text/plain": [
       "np.float64(21.2)"
      ]
     },
     "execution_count": 63,
     "metadata": {},
     "output_type": "execute_result"
    }
   ],
   "source": [
    "mu_med = boston[\"medv\"].median()\n",
    "mu_med"
   ]
  },
  {
   "cell_type": "code",
   "execution_count": 64,
   "id": "6fc22a63",
   "metadata": {},
   "outputs": [
    {
     "name": "stdout",
     "output_type": "stream",
     "text": [
      "Median standard error (bootstrap):0.3694462207141924\n"
     ]
    }
   ],
   "source": [
    "B = 1000\n",
    "n = boston.shape[0]\n",
    "rng = np.random.default_rng(0)\n",
    "\n",
    "meds = np.zeros(B)\n",
    "\n",
    "for i in range(B):\n",
    "    idx = rng.choice(boston.index, size=n, replace=True)\n",
    "    meds[i] = boot_fn(boston, idx, 0)\n",
    "\n",
    "se = meds.std(ddof=0)\n",
    "\n",
    "print(\"Median standard error (bootstrap):\" + str(se))"
   ]
  },
  {
   "cell_type": "markdown",
   "id": "4a80200a",
   "metadata": {},
   "source": [
    "The result (0.37) suggests that the median housing value is relatively stable across samples, but still subject to some fluctuation. This reflects the robustness of the median to outliers,it's less sensitive than the mean but still varies when the sample changes. Overall, this gives us a reliable measure of uncertainty around the median value of medv in the Boston housing data set."
   ]
  },
  {
   "cell_type": "code",
   "execution_count": 65,
   "id": "989d6020",
   "metadata": {},
   "outputs": [
    {
     "data": {
      "text/plain": [
       "np.float64(12.75)"
      ]
     },
     "execution_count": 65,
     "metadata": {},
     "output_type": "execute_result"
    }
   ],
   "source": [
    "mu_0_1 = np.percentile(boston[\"medv\"], 10)\n",
    "mu_0_1"
   ]
  },
  {
   "cell_type": "code",
   "execution_count": 66,
   "id": "7662703a",
   "metadata": {},
   "outputs": [
    {
     "name": "stdout",
     "output_type": "stream",
     "text": [
      "tenth percentile standard error (bootstrap):0.5034541091301172\n"
     ]
    }
   ],
   "source": [
    "B = 1000\n",
    "n = boston.shape[0]\n",
    "rng = np.random.default_rng(0)\n",
    "\n",
    "perc = np.zeros(B)\n",
    "\n",
    "for i in range(B):\n",
    "    idx = rng.choice(boston.index, size=n, replace=True)\n",
    "    perc[i] = boot_fn(boston, idx, 2)\n",
    "\n",
    "se = perc.std(ddof=0)\n",
    "\n",
    "print(\"tenth percentile standard error (bootstrap):\" + str(se))"
   ]
  },
  {
   "cell_type": "markdown",
   "id": "30bd1e6f",
   "metadata": {},
   "source": [
    "The small standard error suggests that the 10th percentile is estimated with fairly high precision despite being from the tail of the distribution, which can often have higher variability."
   ]
  }
 ],
 "metadata": {
  "kernelspec": {
   "display_name": ".venv",
   "language": "python",
   "name": "python3"
  },
  "language_info": {
   "codemirror_mode": {
    "name": "ipython",
    "version": 3
   },
   "file_extension": ".py",
   "mimetype": "text/x-python",
   "name": "python",
   "nbconvert_exporter": "python",
   "pygments_lexer": "ipython3",
   "version": "3.13.3"
  }
 },
 "nbformat": 4,
 "nbformat_minor": 5
}
