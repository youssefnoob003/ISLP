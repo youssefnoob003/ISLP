{
 "cells": [
  {
   "cell_type": "code",
   "execution_count": null,
   "id": "dafc5a6c",
   "metadata": {},
   "outputs": [
    {
     "data": {
      "text/html": [
       "<div>\n",
       "<style scoped>\n",
       "    .dataframe tbody tr th:only-of-type {\n",
       "        vertical-align: middle;\n",
       "    }\n",
       "\n",
       "    .dataframe tbody tr th {\n",
       "        vertical-align: top;\n",
       "    }\n",
       "\n",
       "    .dataframe thead th {\n",
       "        text-align: right;\n",
       "    }\n",
       "</style>\n",
       "<table border=\"1\" class=\"dataframe\">\n",
       "  <thead>\n",
       "    <tr style=\"text-align: right;\">\n",
       "      <th></th>\n",
       "      <th>X</th>\n",
       "      <th>Y</th>\n",
       "    </tr>\n",
       "  </thead>\n",
       "  <tbody>\n",
       "    <tr>\n",
       "      <th>0</th>\n",
       "      <td>0.345584</td>\n",
       "      <td>-0.544554</td>\n",
       "    </tr>\n",
       "    <tr>\n",
       "      <th>1</th>\n",
       "      <td>0.821618</td>\n",
       "      <td>0.333950</td>\n",
       "    </tr>\n",
       "    <tr>\n",
       "      <th>2</th>\n",
       "      <td>0.330437</td>\n",
       "      <td>-0.013532</td>\n",
       "    </tr>\n",
       "    <tr>\n",
       "      <th>3</th>\n",
       "      <td>-1.303157</td>\n",
       "      <td>-4.030442</td>\n",
       "    </tr>\n",
       "    <tr>\n",
       "      <th>4</th>\n",
       "      <td>0.905356</td>\n",
       "      <td>0.484861</td>\n",
       "    </tr>\n",
       "    <tr>\n",
       "      <th>...</th>\n",
       "      <td>...</td>\n",
       "      <td>...</td>\n",
       "    </tr>\n",
       "    <tr>\n",
       "      <th>95</th>\n",
       "      <td>-2.250854</td>\n",
       "      <td>-14.001012</td>\n",
       "    </tr>\n",
       "    <tr>\n",
       "      <th>96</th>\n",
       "      <td>-0.138655</td>\n",
       "      <td>0.932532</td>\n",
       "    </tr>\n",
       "    <tr>\n",
       "      <th>97</th>\n",
       "      <td>0.033000</td>\n",
       "      <td>0.198928</td>\n",
       "    </tr>\n",
       "    <tr>\n",
       "      <th>98</th>\n",
       "      <td>-1.425349</td>\n",
       "      <td>-4.940183</td>\n",
       "    </tr>\n",
       "    <tr>\n",
       "      <th>99</th>\n",
       "      <td>0.332814</td>\n",
       "      <td>-0.953841</td>\n",
       "    </tr>\n",
       "  </tbody>\n",
       "</table>\n",
       "<p>100 rows × 2 columns</p>\n",
       "</div>"
      ],
      "text/plain": [
       "           X          Y\n",
       "0   0.345584  -0.544554\n",
       "1   0.821618   0.333950\n",
       "2   0.330437  -0.013532\n",
       "3  -1.303157  -4.030442\n",
       "4   0.905356   0.484861\n",
       "..       ...        ...\n",
       "95 -2.250854 -14.001012\n",
       "96 -0.138655   0.932532\n",
       "97  0.033000   0.198928\n",
       "98 -1.425349  -4.940183\n",
       "99  0.332814  -0.953841\n",
       "\n",
       "[100 rows x 2 columns]"
      ]
     },
     "execution_count": 4,
     "metadata": {},
     "output_type": "execute_result"
    }
   ],
   "source": [
    "import numpy as np\n",
    "import pandas as pd\n",
    "\n",
    "rng = np.random.default_rng(1)\n",
    "x = rng.normal(size =100)\n",
    "y = x - 2 * x**2 + rng.normal(size =100)\n",
    "\n",
    "df = pd.DataFrame({\n",
    "    \"X\": x,\n",
    "    \"Y\": y\n",
    "})\n",
    "\n",
    "df"
   ]
  },
  {
   "cell_type": "code",
   "execution_count": 6,
   "id": "8be7f6c8",
   "metadata": {},
   "outputs": [
    {
     "data": {
      "image/png": "[encoded data removed]",
      "text/plain": [
       "<Figure size 640x480 with 1 Axes>"
      ]
     },
     "metadata": {},
     "output_type": "display_data"
    }
   ],
   "source": [
    "df.plot.scatter(\"X\", \"Y\");"
   ]
  },
  {
   "cell_type": "code",
   "execution_count": 12,
   "id": "939e7c9b",
   "metadata": {},
   "outputs": [
    {
     "data": {
      "text/plain": [
       "array([7.56060369, 0.98403717, 0.96823558, 0.96595856])"
      ]
     },
     "execution_count": 12,
     "metadata": {},
     "output_type": "execute_result"
    }
   ],
   "source": [
    "from ISLP.models import sklearn_sm\n",
    "import statsmodels.api as sm\n",
    "from sklearn.model_selection import cross_validate\n",
    "\n",
    "M = sklearn_sm(sm.OLS)\n",
    "cv_error = np.zeros(4)\n",
    "for i, d in enumerate(range(1,5)):\n",
    "    X = np.power.outer(x, np.arange(d+1))\n",
    "    M_CV = cross_validate(M,\n",
    "                          X,\n",
    "                          y,\n",
    "                          cv=x.shape[0])\n",
    "    cv_error[i] = np.mean(M_CV['test_score'])\n",
    "cv_error\n"
   ]
  },
  {
   "cell_type": "code",
   "execution_count": 13,
   "id": "664536ef",
   "metadata": {},
   "outputs": [
    {
     "data": {
      "text/plain": [
       "array([7.56060369, 0.98403717, 0.96823558, 0.96595856])"
      ]
     },
     "execution_count": 13,
     "metadata": {},
     "output_type": "execute_result"
    }
   ],
   "source": [
    "rng = np.random.default_rng(2)\n",
    "x = rng.normal(size =100)\n",
    "y = x - 2 * x**2 + rng.normal(size =100)\n",
    "\n",
    "M = sklearn_sm(sm.OLS)\n",
    "cv_error = np.zeros(4)\n",
    "for i, d in enumerate(range(1,5)):\n",
    "    X = np.power.outer(x, np.arange(d+1))\n",
    "    M_CV = cross_validate(M,\n",
    "                          X,\n",
    "                          y,\n",
    "                          cv=x.shape[0])\n",
    "    cv_error[i] = np.mean(M_CV['test_score'])\n",
    "cv_error"
   ]
  },
  {
   "cell_type": "markdown",
   "id": "0b5ba54f",
   "metadata": {},
   "source": [
    "The results obtained after changing the random seed in part (d) are numerically different in terms of the data values, since the new seed generates a different realization of the noise in the model. However, the relative pattern of LOOCV errors remains consistent: the second-degree polynomial model continues to outperform the others. This happens because the underlying true relationship between $X$ and $Y$ is quadratic, and although random noise changes with different seeds, the general shape of the data-generating function stays the same. As a result, even with different seeds, the model that best approximates the true function consistently shows the lowest cross-validation error."
   ]
  }
 ],
 "metadata": {
  "kernelspec": {
   "display_name": ".venv",
   "language": "python",
   "name": "python3"
  },
  "language_info": {
   "codemirror_mode": {
    "name": "ipython",
    "version": 3
   },
   "file_extension": ".py",
   "mimetype": "text/x-python",
   "name": "python",
   "nbconvert_exporter": "python",
   "pygments_lexer": "ipython3",
   "version": "3.13.3"
  }
 },
 "nbformat": 4,
 "nbformat_minor": 5
}
