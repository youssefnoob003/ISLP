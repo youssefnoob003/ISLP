{
 "cells": [
  {
   "cell_type": "code",
   "execution_count": 287,
   "id": "0748367e",
   "metadata": {},
   "outputs": [
    {
     "data": {
      "text/html": [
       "<div>\n",
       "<style scoped>\n",
       "    .dataframe tbody tr th:only-of-type {\n",
       "        vertical-align: middle;\n",
       "    }\n",
       "\n",
       "    .dataframe tbody tr th {\n",
       "        vertical-align: top;\n",
       "    }\n",
       "\n",
       "    .dataframe thead th {\n",
       "        text-align: right;\n",
       "    }\n",
       "</style>\n",
       "<table border=\"1\" class=\"dataframe\">\n",
       "  <thead>\n",
       "    <tr style=\"text-align: right;\">\n",
       "      <th></th>\n",
       "      <th>Year</th>\n",
       "      <th>Lag1</th>\n",
       "      <th>Lag2</th>\n",
       "      <th>Lag3</th>\n",
       "      <th>Lag4</th>\n",
       "      <th>Lag5</th>\n",
       "      <th>Volume</th>\n",
       "      <th>Today</th>\n",
       "      <th>Direction</th>\n",
       "    </tr>\n",
       "  </thead>\n",
       "  <tbody>\n",
       "    <tr>\n",
       "      <th>0</th>\n",
       "      <td>1990</td>\n",
       "      <td>0.816</td>\n",
       "      <td>1.572</td>\n",
       "      <td>-3.936</td>\n",
       "      <td>-0.229</td>\n",
       "      <td>-3.484</td>\n",
       "      <td>0.154976</td>\n",
       "      <td>-0.270</td>\n",
       "      <td>Down</td>\n",
       "    </tr>\n",
       "    <tr>\n",
       "      <th>1</th>\n",
       "      <td>1990</td>\n",
       "      <td>-0.270</td>\n",
       "      <td>0.816</td>\n",
       "      <td>1.572</td>\n",
       "      <td>-3.936</td>\n",
       "      <td>-0.229</td>\n",
       "      <td>0.148574</td>\n",
       "      <td>-2.576</td>\n",
       "      <td>Down</td>\n",
       "    </tr>\n",
       "    <tr>\n",
       "      <th>2</th>\n",
       "      <td>1990</td>\n",
       "      <td>-2.576</td>\n",
       "      <td>-0.270</td>\n",
       "      <td>0.816</td>\n",
       "      <td>1.572</td>\n",
       "      <td>-3.936</td>\n",
       "      <td>0.159837</td>\n",
       "      <td>3.514</td>\n",
       "      <td>Up</td>\n",
       "    </tr>\n",
       "    <tr>\n",
       "      <th>3</th>\n",
       "      <td>1990</td>\n",
       "      <td>3.514</td>\n",
       "      <td>-2.576</td>\n",
       "      <td>-0.270</td>\n",
       "      <td>0.816</td>\n",
       "      <td>1.572</td>\n",
       "      <td>0.161630</td>\n",
       "      <td>0.712</td>\n",
       "      <td>Up</td>\n",
       "    </tr>\n",
       "    <tr>\n",
       "      <th>4</th>\n",
       "      <td>1990</td>\n",
       "      <td>0.712</td>\n",
       "      <td>3.514</td>\n",
       "      <td>-2.576</td>\n",
       "      <td>-0.270</td>\n",
       "      <td>0.816</td>\n",
       "      <td>0.153728</td>\n",
       "      <td>1.178</td>\n",
       "      <td>Up</td>\n",
       "    </tr>\n",
       "    <tr>\n",
       "      <th>...</th>\n",
       "      <td>...</td>\n",
       "      <td>...</td>\n",
       "      <td>...</td>\n",
       "      <td>...</td>\n",
       "      <td>...</td>\n",
       "      <td>...</td>\n",
       "      <td>...</td>\n",
       "      <td>...</td>\n",
       "      <td>...</td>\n",
       "    </tr>\n",
       "    <tr>\n",
       "      <th>1084</th>\n",
       "      <td>2010</td>\n",
       "      <td>-0.861</td>\n",
       "      <td>0.043</td>\n",
       "      <td>-2.173</td>\n",
       "      <td>3.599</td>\n",
       "      <td>0.015</td>\n",
       "      <td>3.205160</td>\n",
       "      <td>2.969</td>\n",
       "      <td>Up</td>\n",
       "    </tr>\n",
       "    <tr>\n",
       "      <th>1085</th>\n",
       "      <td>2010</td>\n",
       "      <td>2.969</td>\n",
       "      <td>-0.861</td>\n",
       "      <td>0.043</td>\n",
       "      <td>-2.173</td>\n",
       "      <td>3.599</td>\n",
       "      <td>4.242568</td>\n",
       "      <td>1.281</td>\n",
       "      <td>Up</td>\n",
       "    </tr>\n",
       "    <tr>\n",
       "      <th>1086</th>\n",
       "      <td>2010</td>\n",
       "      <td>1.281</td>\n",
       "      <td>2.969</td>\n",
       "      <td>-0.861</td>\n",
       "      <td>0.043</td>\n",
       "      <td>-2.173</td>\n",
       "      <td>4.835082</td>\n",
       "      <td>0.283</td>\n",
       "      <td>Up</td>\n",
       "    </tr>\n",
       "    <tr>\n",
       "      <th>1087</th>\n",
       "      <td>2010</td>\n",
       "      <td>0.283</td>\n",
       "      <td>1.281</td>\n",
       "      <td>2.969</td>\n",
       "      <td>-0.861</td>\n",
       "      <td>0.043</td>\n",
       "      <td>4.454044</td>\n",
       "      <td>1.034</td>\n",
       "      <td>Up</td>\n",
       "    </tr>\n",
       "    <tr>\n",
       "      <th>1088</th>\n",
       "      <td>2010</td>\n",
       "      <td>1.034</td>\n",
       "      <td>0.283</td>\n",
       "      <td>1.281</td>\n",
       "      <td>2.969</td>\n",
       "      <td>-0.861</td>\n",
       "      <td>2.707105</td>\n",
       "      <td>0.069</td>\n",
       "      <td>Up</td>\n",
       "    </tr>\n",
       "  </tbody>\n",
       "</table>\n",
       "<p>1089 rows × 9 columns</p>\n",
       "</div>"
      ],
      "text/plain": [
       "      Year   Lag1   Lag2   Lag3   Lag4   Lag5    Volume  Today Direction\n",
       "0     1990  0.816  1.572 -3.936 -0.229 -3.484  0.154976 -0.270      Down\n",
       "1     1990 -0.270  0.816  1.572 -3.936 -0.229  0.148574 -2.576      Down\n",
       "2     1990 -2.576 -0.270  0.816  1.572 -3.936  0.159837  3.514        Up\n",
       "3     1990  3.514 -2.576 -0.270  0.816  1.572  0.161630  0.712        Up\n",
       "4     1990  0.712  3.514 -2.576 -0.270  0.816  0.153728  1.178        Up\n",
       "...    ...    ...    ...    ...    ...    ...       ...    ...       ...\n",
       "1084  2010 -0.861  0.043 -2.173  3.599  0.015  3.205160  2.969        Up\n",
       "1085  2010  2.969 -0.861  0.043 -2.173  3.599  4.242568  1.281        Up\n",
       "1086  2010  1.281  2.969 -0.861  0.043 -2.173  4.835082  0.283        Up\n",
       "1087  2010  0.283  1.281  2.969 -0.861  0.043  4.454044  1.034        Up\n",
       "1088  2010  1.034  0.283  1.281  2.969 -0.861  2.707105  0.069        Up\n",
       "\n",
       "[1089 rows x 9 columns]"
      ]
     },
     "execution_count": 287,
     "metadata": {},
     "output_type": "execute_result"
    }
   ],
   "source": [
    "import pandas as pd\n",
    "\n",
    "weekly = pd.read_csv(\"../../data/Weekly.csv\")\n",
    "weekly"
   ]
  },
  {
   "cell_type": "code",
   "execution_count": 288,
   "id": "75af8b14",
   "metadata": {},
   "outputs": [
    {
     "data": {
      "text/html": [
       "<div>\n",
       "<style scoped>\n",
       "    .dataframe tbody tr th:only-of-type {\n",
       "        vertical-align: middle;\n",
       "    }\n",
       "\n",
       "    .dataframe tbody tr th {\n",
       "        vertical-align: top;\n",
       "    }\n",
       "\n",
       "    .dataframe thead th {\n",
       "        text-align: right;\n",
       "    }\n",
       "</style>\n",
       "<table border=\"1\" class=\"dataframe\">\n",
       "  <thead>\n",
       "    <tr style=\"text-align: right;\">\n",
       "      <th></th>\n",
       "      <th>Year</th>\n",
       "      <th>Lag1</th>\n",
       "      <th>Lag2</th>\n",
       "      <th>Lag3</th>\n",
       "      <th>Lag4</th>\n",
       "      <th>Lag5</th>\n",
       "      <th>Volume</th>\n",
       "      <th>Today</th>\n",
       "    </tr>\n",
       "  </thead>\n",
       "  <tbody>\n",
       "    <tr>\n",
       "      <th>Year</th>\n",
       "      <td>1.000000</td>\n",
       "      <td>-0.032289</td>\n",
       "      <td>-0.033390</td>\n",
       "      <td>-0.030006</td>\n",
       "      <td>-0.031128</td>\n",
       "      <td>-0.030519</td>\n",
       "      <td>0.841942</td>\n",
       "      <td>-0.032460</td>\n",
       "    </tr>\n",
       "    <tr>\n",
       "      <th>Lag1</th>\n",
       "      <td>-0.032289</td>\n",
       "      <td>1.000000</td>\n",
       "      <td>-0.074853</td>\n",
       "      <td>0.058636</td>\n",
       "      <td>-0.071274</td>\n",
       "      <td>-0.008183</td>\n",
       "      <td>-0.064951</td>\n",
       "      <td>-0.075032</td>\n",
       "    </tr>\n",
       "    <tr>\n",
       "      <th>Lag2</th>\n",
       "      <td>-0.033390</td>\n",
       "      <td>-0.074853</td>\n",
       "      <td>1.000000</td>\n",
       "      <td>-0.075721</td>\n",
       "      <td>0.058382</td>\n",
       "      <td>-0.072499</td>\n",
       "      <td>-0.085513</td>\n",
       "      <td>0.059167</td>\n",
       "    </tr>\n",
       "    <tr>\n",
       "      <th>Lag3</th>\n",
       "      <td>-0.030006</td>\n",
       "      <td>0.058636</td>\n",
       "      <td>-0.075721</td>\n",
       "      <td>1.000000</td>\n",
       "      <td>-0.075396</td>\n",
       "      <td>0.060657</td>\n",
       "      <td>-0.069288</td>\n",
       "      <td>-0.071244</td>\n",
       "    </tr>\n",
       "    <tr>\n",
       "      <th>Lag4</th>\n",
       "      <td>-0.031128</td>\n",
       "      <td>-0.071274</td>\n",
       "      <td>0.058382</td>\n",
       "      <td>-0.075396</td>\n",
       "      <td>1.000000</td>\n",
       "      <td>-0.075675</td>\n",
       "      <td>-0.061075</td>\n",
       "      <td>-0.007826</td>\n",
       "    </tr>\n",
       "    <tr>\n",
       "      <th>Lag5</th>\n",
       "      <td>-0.030519</td>\n",
       "      <td>-0.008183</td>\n",
       "      <td>-0.072499</td>\n",
       "      <td>0.060657</td>\n",
       "      <td>-0.075675</td>\n",
       "      <td>1.000000</td>\n",
       "      <td>-0.058517</td>\n",
       "      <td>0.011013</td>\n",
       "    </tr>\n",
       "    <tr>\n",
       "      <th>Volume</th>\n",
       "      <td>0.841942</td>\n",
       "      <td>-0.064951</td>\n",
       "      <td>-0.085513</td>\n",
       "      <td>-0.069288</td>\n",
       "      <td>-0.061075</td>\n",
       "      <td>-0.058517</td>\n",
       "      <td>1.000000</td>\n",
       "      <td>-0.033078</td>\n",
       "    </tr>\n",
       "    <tr>\n",
       "      <th>Today</th>\n",
       "      <td>-0.032460</td>\n",
       "      <td>-0.075032</td>\n",
       "      <td>0.059167</td>\n",
       "      <td>-0.071244</td>\n",
       "      <td>-0.007826</td>\n",
       "      <td>0.011013</td>\n",
       "      <td>-0.033078</td>\n",
       "      <td>1.000000</td>\n",
       "    </tr>\n",
       "  </tbody>\n",
       "</table>\n",
       "</div>"
      ],
      "text/plain": [
       "            Year      Lag1      Lag2      Lag3      Lag4      Lag5    Volume  \\\n",
       "Year    1.000000 -0.032289 -0.033390 -0.030006 -0.031128 -0.030519  0.841942   \n",
       "Lag1   -0.032289  1.000000 -0.074853  0.058636 -0.071274 -0.008183 -0.064951   \n",
       "Lag2   -0.033390 -0.074853  1.000000 -0.075721  0.058382 -0.072499 -0.085513   \n",
       "Lag3   -0.030006  0.058636 -0.075721  1.000000 -0.075396  0.060657 -0.069288   \n",
       "Lag4   -0.031128 -0.071274  0.058382 -0.075396  1.000000 -0.075675 -0.061075   \n",
       "Lag5   -0.030519 -0.008183 -0.072499  0.060657 -0.075675  1.000000 -0.058517   \n",
       "Volume  0.841942 -0.064951 -0.085513 -0.069288 -0.061075 -0.058517  1.000000   \n",
       "Today  -0.032460 -0.075032  0.059167 -0.071244 -0.007826  0.011013 -0.033078   \n",
       "\n",
       "           Today  \n",
       "Year   -0.032460  \n",
       "Lag1   -0.075032  \n",
       "Lag2    0.059167  \n",
       "Lag3   -0.071244  \n",
       "Lag4   -0.007826  \n",
       "Lag5    0.011013  \n",
       "Volume -0.033078  \n",
       "Today   1.000000  "
      ]
     },
     "execution_count": 288,
     "metadata": {},
     "output_type": "execute_result"
    }
   ],
   "source": [
    "weekly.corr(numeric_only=True)"
   ]
  },
  {
   "cell_type": "code",
   "execution_count": 289,
   "id": "6e1b474e",
   "metadata": {},
   "outputs": [
    {
     "data": {
      "image/png": "[encoded data removed]",
      "text/plain": [
       "<Figure size 640x480 with 1 Axes>"
      ]
     },
     "metadata": {},
     "output_type": "display_data"
    }
   ],
   "source": [
    "weekly.plot.scatter(\"Year\", \"Volume\");"
   ]
  },
  {
   "cell_type": "code",
   "execution_count": 290,
   "id": "bc632932",
   "metadata": {},
   "outputs": [
    {
     "data": {
      "image/png": "[encoded data removed]",
      "text/plain": [
       "<Figure size 640x480 with 1 Axes>"
      ]
     },
     "metadata": {},
     "output_type": "display_data"
    }
   ],
   "source": [
    "weekly.plot.scatter(\"Lag1\", \"Today\");"
   ]
  },
  {
   "cell_type": "markdown",
   "id": "bd5ff430",
   "metadata": {},
   "source": [
    "There appears to be no significant relationships between the predictors. The covariance matrix indicates that, aside from the strong correlation between Year and Volume, no other substantial correlations exist among the variables. Plotting Volume against Year reveals an exponential increase in volume over time. Additionally, to assess whether there is any relationship between lag variables and the direction of today's returns, we plotted Lag1 against Today. The resulting scatterplot showed no discernible pattern, providing further evidence that there is no meaningful relationship between past and current returns."
   ]
  },
  {
   "cell_type": "code",
   "execution_count": 291,
   "id": "b1f42d12",
   "metadata": {},
   "outputs": [
    {
     "data": {
      "text/html": [
       "<table class=\"simpletable\">\n",
       "<caption>Generalized Linear Model Regression Results</caption>\n",
       "<tr>\n",
       "  <th>Dep. Variable:</th>       <td>Direction</td>    <th>  No. Observations:  </th>  <td>  1089</td> \n",
       "</tr>\n",
       "<tr>\n",
       "  <th>Model:</th>                  <td>GLM</td>       <th>  Df Residuals:      </th>  <td>  1082</td> \n",
       "</tr>\n",
       "<tr>\n",
       "  <th>Model Family:</th>        <td>Binomial</td>     <th>  Df Model:          </th>  <td>     6</td> \n",
       "</tr>\n",
       "<tr>\n",
       "  <th>Link Function:</th>         <td>Logit</td>      <th>  Scale:             </th> <td>  1.0000</td>\n",
       "</tr>\n",
       "<tr>\n",
       "  <th>Method:</th>                <td>IRLS</td>       <th>  Log-Likelihood:    </th> <td> -743.18</td>\n",
       "</tr>\n",
       "<tr>\n",
       "  <th>Date:</th>            <td>Wed, 23 Jul 2025</td> <th>  Deviance:          </th> <td>  1486.4</td>\n",
       "</tr>\n",
       "<tr>\n",
       "  <th>Time:</th>                <td>16:32:50</td>     <th>  Pearson chi2:      </th> <td>1.09e+03</td>\n",
       "</tr>\n",
       "<tr>\n",
       "  <th>No. Iterations:</th>          <td>4</td>        <th>  Pseudo R-squ. (CS):</th> <td>0.009000</td>\n",
       "</tr>\n",
       "<tr>\n",
       "  <th>Covariance Type:</th>     <td>nonrobust</td>    <th>                     </th>     <td> </td>   \n",
       "</tr>\n",
       "</table>\n",
       "<table class=\"simpletable\">\n",
       "<tr>\n",
       "      <td></td>         <th>coef</th>     <th>std err</th>      <th>z</th>      <th>P>|z|</th>  <th>[0.025</th>    <th>0.975]</th>  \n",
       "</tr>\n",
       "<tr>\n",
       "  <th>intercept</th> <td>    0.2669</td> <td>    0.086</td> <td>    3.106</td> <td> 0.002</td> <td>    0.098</td> <td>    0.435</td>\n",
       "</tr>\n",
       "<tr>\n",
       "  <th>Lag1</th>      <td>   -0.0413</td> <td>    0.026</td> <td>   -1.563</td> <td> 0.118</td> <td>   -0.093</td> <td>    0.010</td>\n",
       "</tr>\n",
       "<tr>\n",
       "  <th>Lag2</th>      <td>    0.0584</td> <td>    0.027</td> <td>    2.175</td> <td> 0.030</td> <td>    0.006</td> <td>    0.111</td>\n",
       "</tr>\n",
       "<tr>\n",
       "  <th>Lag3</th>      <td>   -0.0161</td> <td>    0.027</td> <td>   -0.602</td> <td> 0.547</td> <td>   -0.068</td> <td>    0.036</td>\n",
       "</tr>\n",
       "<tr>\n",
       "  <th>Lag4</th>      <td>   -0.0278</td> <td>    0.026</td> <td>   -1.050</td> <td> 0.294</td> <td>   -0.080</td> <td>    0.024</td>\n",
       "</tr>\n",
       "<tr>\n",
       "  <th>Lag5</th>      <td>   -0.0145</td> <td>    0.026</td> <td>   -0.549</td> <td> 0.583</td> <td>   -0.066</td> <td>    0.037</td>\n",
       "</tr>\n",
       "<tr>\n",
       "  <th>Volume</th>    <td>   -0.0227</td> <td>    0.037</td> <td>   -0.616</td> <td> 0.538</td> <td>   -0.095</td> <td>    0.050</td>\n",
       "</tr>\n",
       "</table>"
      ],
      "text/latex": [
       "\\begin{center}\n",
       "\\begin{tabular}{lclc}\n",
       "\\toprule\n",
       "\\textbf{Dep. Variable:}   &    Direction     & \\textbf{  No. Observations:  } &     1089    \\\\\n",
       "\\textbf{Model:}           &       GLM        & \\textbf{  Df Residuals:      } &     1082    \\\\\n",
       "\\textbf{Model Family:}    &     Binomial     & \\textbf{  Df Model:          } &        6    \\\\\n",
       "\\textbf{Link Function:}   &      Logit       & \\textbf{  Scale:             } &    1.0000   \\\\\n",
       "\\textbf{Method:}          &       IRLS       & \\textbf{  Log-Likelihood:    } &   -743.18   \\\\\n",
       "\\textbf{Date:}            & Wed, 23 Jul 2025 & \\textbf{  Deviance:          } &    1486.4   \\\\\n",
       "\\textbf{Time:}            &     16:32:50     & \\textbf{  Pearson chi2:      } &  1.09e+03   \\\\\n",
       "\\textbf{No. Iterations:}  &        4         & \\textbf{  Pseudo R-squ. (CS):} &  0.009000   \\\\\n",
       "\\textbf{Covariance Type:} &    nonrobust     & \\textbf{                     } &             \\\\\n",
       "\\bottomrule\n",
       "\\end{tabular}\n",
       "\\begin{tabular}{lcccccc}\n",
       "                   & \\textbf{coef} & \\textbf{std err} & \\textbf{z} & \\textbf{P$> |$z$|$} & \\textbf{[0.025} & \\textbf{0.975]}  \\\\\n",
       "\\midrule\n",
       "\\textbf{intercept} &       0.2669  &        0.086     &     3.106  &         0.002        &        0.098    &        0.435     \\\\\n",
       "\\textbf{Lag1}      &      -0.0413  &        0.026     &    -1.563  &         0.118        &       -0.093    &        0.010     \\\\\n",
       "\\textbf{Lag2}      &       0.0584  &        0.027     &     2.175  &         0.030        &        0.006    &        0.111     \\\\\n",
       "\\textbf{Lag3}      &      -0.0161  &        0.027     &    -0.602  &         0.547        &       -0.068    &        0.036     \\\\\n",
       "\\textbf{Lag4}      &      -0.0278  &        0.026     &    -1.050  &         0.294        &       -0.080    &        0.024     \\\\\n",
       "\\textbf{Lag5}      &      -0.0145  &        0.026     &    -0.549  &         0.583        &       -0.066    &        0.037     \\\\\n",
       "\\textbf{Volume}    &      -0.0227  &        0.037     &    -0.616  &         0.538        &       -0.095    &        0.050     \\\\\n",
       "\\bottomrule\n",
       "\\end{tabular}\n",
       "%\\caption{Generalized Linear Model Regression Results}\n",
       "\\end{center}"
      ],
      "text/plain": [
       "<class 'statsmodels.iolib.summary.Summary'>\n",
       "\"\"\"\n",
       "                 Generalized Linear Model Regression Results                  \n",
       "==============================================================================\n",
       "Dep. Variable:              Direction   No. Observations:                 1089\n",
       "Model:                            GLM   Df Residuals:                     1082\n",
       "Model Family:                Binomial   Df Model:                            6\n",
       "Link Function:                  Logit   Scale:                          1.0000\n",
       "Method:                          IRLS   Log-Likelihood:                -743.18\n",
       "Date:                Wed, 23 Jul 2025   Deviance:                       1486.4\n",
       "Time:                        16:32:50   Pearson chi2:                 1.09e+03\n",
       "No. Iterations:                     4   Pseudo R-squ. (CS):           0.009000\n",
       "Covariance Type:            nonrobust                                         \n",
       "==============================================================================\n",
       "                 coef    std err          z      P>|z|      [0.025      0.975]\n",
       "------------------------------------------------------------------------------\n",
       "intercept      0.2669      0.086      3.106      0.002       0.098       0.435\n",
       "Lag1          -0.0413      0.026     -1.563      0.118      -0.093       0.010\n",
       "Lag2           0.0584      0.027      2.175      0.030       0.006       0.111\n",
       "Lag3          -0.0161      0.027     -0.602      0.547      -0.068       0.036\n",
       "Lag4          -0.0278      0.026     -1.050      0.294      -0.080       0.024\n",
       "Lag5          -0.0145      0.026     -0.549      0.583      -0.066       0.037\n",
       "Volume        -0.0227      0.037     -0.616      0.538      -0.095       0.050\n",
       "==============================================================================\n",
       "\"\"\""
      ]
     },
     "execution_count": 291,
     "metadata": {},
     "output_type": "execute_result"
    }
   ],
   "source": [
    "import statsmodels.api as sm \n",
    "from ISLP.models import ModelSpec as MS \n",
    "\n",
    "pred = weekly.columns.drop([\"Year\", \"Today\", \"Direction\"])\n",
    "X = MS(pred).fit_transform(weekly)\n",
    "y = weekly[\"Direction\"] == 'Up'\n",
    "\n",
    "results = sm.GLM(y, X, family=sm.families.Binomial()).fit()\n",
    "\n",
    "results.summary()"
   ]
  },
  {
   "cell_type": "markdown",
   "id": "198a5542",
   "metadata": {},
   "source": [
    "The results from the Generalized Linear Model (GLM) regression suggest that most predictors do not have a statistically significant relationship with the target variable Direction. Out of the six predictors used (Lag1 through Lag5 and Volume), only Lag2 shows a significant effect, with a p-value of 0.030, which is below the typical 0.05 threshold. This indicates that changes in the market two days ago may have some predictive power for today's market direction.\n",
    "\n",
    "All other predictors, including Lag1, Lag3, Lag4, Lag5, and Volume, have p-values well above 0.05, suggesting no statistically significant contribution to the model in explaining the target variable. Furthermore, the pseudo R-squared value of 0.009 indicates that the overall explanatory power of the model is very weak."
   ]
  },
  {
   "cell_type": "code",
   "execution_count": 292,
   "id": "21ef5754",
   "metadata": {},
   "outputs": [
    {
     "data": {
      "text/html": [
       "<div>\n",
       "<style scoped>\n",
       "    .dataframe tbody tr th:only-of-type {\n",
       "        vertical-align: middle;\n",
       "    }\n",
       "\n",
       "    .dataframe tbody tr th {\n",
       "        vertical-align: top;\n",
       "    }\n",
       "\n",
       "    .dataframe thead th {\n",
       "        text-align: right;\n",
       "    }\n",
       "</style>\n",
       "<table border=\"1\" class=\"dataframe\">\n",
       "  <thead>\n",
       "    <tr style=\"text-align: right;\">\n",
       "      <th>Truth</th>\n",
       "      <th>Down</th>\n",
       "      <th>Up</th>\n",
       "    </tr>\n",
       "    <tr>\n",
       "      <th>Predicted</th>\n",
       "      <th></th>\n",
       "      <th></th>\n",
       "    </tr>\n",
       "  </thead>\n",
       "  <tbody>\n",
       "    <tr>\n",
       "      <th>Down</th>\n",
       "      <td>54</td>\n",
       "      <td>48</td>\n",
       "    </tr>\n",
       "    <tr>\n",
       "      <th>Up</th>\n",
       "      <td>430</td>\n",
       "      <td>557</td>\n",
       "    </tr>\n",
       "  </tbody>\n",
       "</table>\n",
       "</div>"
      ],
      "text/plain": [
       "Truth      Down   Up\n",
       "Predicted           \n",
       "Down         54   48\n",
       "Up          430  557"
      ]
     },
     "execution_count": 292,
     "metadata": {},
     "output_type": "execute_result"
    }
   ],
   "source": [
    "import numpy as np\n",
    "\n",
    "probs = results.predict()\n",
    "labels = np.array([\"Down\"] * weekly.shape[0])\n",
    "\n",
    "labels[probs>0.5] = \"Up\"\n",
    "\n",
    "from ISLP import confusion_table\n",
    "\n",
    "confusion_table(labels, weekly.Direction)"
   ]
  },
  {
   "cell_type": "code",
   "execution_count": 293,
   "id": "88423477",
   "metadata": {},
   "outputs": [
    {
     "name": "stdout",
     "output_type": "stream",
     "text": [
      "56.11% predictions are correct\n"
     ]
    }
   ],
   "source": [
    "correct = np.mean(labels == weekly.Direction)\n",
    "\n",
    "print(f\"{correct*100:.2f}% predictions are correct\")"
   ]
  },
  {
   "cell_type": "markdown",
   "id": "9b21a9f1",
   "metadata": {},
   "source": [
    "The model predicted \"Down\" for 102 days (54 + 48), but only 54 of those were correct. This means the model correctly identified a down day only 52.94% of the time when it predicted \"Down\", and only 54 out of 484 total down days were correctly classified which is quite poor.\n",
    "\n",
    "For \"Up\" predictions, the model was more reliable: out of 987 up predictions, 557 were correct, which corresponds to a true positive rate of 53.99%, but more importantly, among the actual Up days (605 in total), the model correctly predicted 557, a true positive rate of 92.06%, which is strong.\n",
    "\n",
    "The model is heavily biased toward predicting \"Up\", and while its \"Up\" predictions are relatively accurate (high recall for \"Up\" class), its \"Down\" predictions are very unreliable. This suggests a practical strategy: trust the model when it predicts \"Up\", but be skeptical of its \"Down\" predictions."
   ]
  },
  {
   "cell_type": "code",
   "execution_count": 294,
   "id": "1efd3ac3",
   "metadata": {},
   "outputs": [],
   "source": [
    "train = weekly[\"Year\"] <= 2008\n",
    "\n",
    "weekly_train, weekly_test = weekly.loc[train], weekly.loc[~train]\n",
    "\n",
    "X_train = MS([\"Lag2\"]).fit_transform(weekly_train)\n",
    "X_test = MS([\"Lag2\"]).fit_transform(weekly_test)\n",
    "\n",
    "y_train = weekly_train[\"Direction\"] == \"Up\"\n",
    "y_test = weekly_test[\"Direction\"] == \"Up\""
   ]
  },
  {
   "cell_type": "code",
   "execution_count": 295,
   "id": "693260bf",
   "metadata": {},
   "outputs": [],
   "source": [
    "def evaluate_confusion_df(confusion_df):\n",
    "    # Extract values\n",
    "    TP = confusion_df.loc['Up', 'Up']\n",
    "    FP = confusion_df.loc['Up', 'Down']\n",
    "    FN = confusion_df.loc['Down', 'Up']\n",
    "    TN = confusion_df.loc['Down', 'Down']\n",
    "\n",
    "    total = TP + FP + FN + TN\n",
    "    accuracy = (TP + TN) / total if total else 0\n",
    "\n",
    "    precision_up = TP / (TP + FP) if (TP + FP) else 0\n",
    "    recall_up = TP / (TP + FN) if (TP + FN) else 0\n",
    "\n",
    "    precision_down = TN / (TN + FN) if (TN + FN) else 0\n",
    "    recall_down = TN / (TN + FP) if (TN + FP) else 0\n",
    "\n",
    "    print(f\"Accuracy: {accuracy * 100:.2f}%\")\n",
    "    print(f\"Precision (Up): {precision_up * 100:.2f}%\")\n",
    "    print(f\"Recall (Up): {recall_up * 100:.2f}%\")\n",
    "    print(f\"Precision (Down): {precision_down * 100:.2f}%\" if (TN + FN) else \"Precision (Down): Undefined (no Down predictions)\")\n",
    "    print(f\"Recall (Down): {recall_down * 100:.2f}%\" if (TN + FP) else \"Recall (Down): Undefined (no actual Down cases)\")\n"
   ]
  },
  {
   "cell_type": "markdown",
   "id": "4ec26e40",
   "metadata": {},
   "source": [
    "# Logistic Regression "
   ]
  },
  {
   "cell_type": "code",
   "execution_count": 296,
   "id": "816e7dd8",
   "metadata": {},
   "outputs": [
    {
     "data": {
      "text/html": [
       "<div>\n",
       "<style scoped>\n",
       "    .dataframe tbody tr th:only-of-type {\n",
       "        vertical-align: middle;\n",
       "    }\n",
       "\n",
       "    .dataframe tbody tr th {\n",
       "        vertical-align: top;\n",
       "    }\n",
       "\n",
       "    .dataframe thead th {\n",
       "        text-align: right;\n",
       "    }\n",
       "</style>\n",
       "<table border=\"1\" class=\"dataframe\">\n",
       "  <thead>\n",
       "    <tr style=\"text-align: right;\">\n",
       "      <th>Truth</th>\n",
       "      <th>Down</th>\n",
       "      <th>Up</th>\n",
       "    </tr>\n",
       "    <tr>\n",
       "      <th>Predicted</th>\n",
       "      <th></th>\n",
       "      <th></th>\n",
       "    </tr>\n",
       "  </thead>\n",
       "  <tbody>\n",
       "    <tr>\n",
       "      <th>Down</th>\n",
       "      <td>9</td>\n",
       "      <td>5</td>\n",
       "    </tr>\n",
       "    <tr>\n",
       "      <th>Up</th>\n",
       "      <td>34</td>\n",
       "      <td>56</td>\n",
       "    </tr>\n",
       "  </tbody>\n",
       "</table>\n",
       "</div>"
      ],
      "text/plain": [
       "Truth      Down  Up\n",
       "Predicted          \n",
       "Down          9   5\n",
       "Up           34  56"
      ]
     },
     "execution_count": 296,
     "metadata": {},
     "output_type": "execute_result"
    }
   ],
   "source": [
    "results = sm.GLM(\n",
    "    y_train,\n",
    "    X_train,\n",
    "    family=sm.families.Binomial()\n",
    ").fit()\n",
    "\n",
    "probs = results.predict(X_test)\n",
    "labels = np.array([\"Down\"] * weekly_test.shape[0])\n",
    "\n",
    "labels[probs>0.5] = \"Up\"\n",
    "\n",
    "conf = confusion_table(labels, weekly_test[\"Direction\"])\n",
    "conf"
   ]
  },
  {
   "cell_type": "code",
   "execution_count": 312,
   "id": "49e18b61",
   "metadata": {},
   "outputs": [
    {
     "name": "stdout",
     "output_type": "stream",
     "text": [
      "Logistic Regression\n",
      "Accuracy: 46.15%\n",
      "Precision (Up): 58.62%\n",
      "Recall (Up): 27.87%\n",
      "Precision (Down): 41.33%\n",
      "Recall (Down): 72.09%\n"
     ]
    }
   ],
   "source": [
    "print(\"Logistic Regression\")\n",
    "evaluate_confusion_df(conf)"
   ]
  },
  {
   "cell_type": "markdown",
   "id": "876d9a21",
   "metadata": {},
   "source": [
    "# LDA"
   ]
  },
  {
   "cell_type": "code",
   "execution_count": 298,
   "id": "d83a99a2",
   "metadata": {},
   "outputs": [],
   "source": [
    "X_train = X_train.drop(\"intercept\", axis=1)\n",
    "X_test = X_test.drop(\"intercept\", axis=1)"
   ]
  },
  {
   "cell_type": "code",
   "execution_count": 299,
   "id": "07c36a4d",
   "metadata": {},
   "outputs": [
    {
     "data": {
      "text/html": [
       "<div>\n",
       "<style scoped>\n",
       "    .dataframe tbody tr th:only-of-type {\n",
       "        vertical-align: middle;\n",
       "    }\n",
       "\n",
       "    .dataframe tbody tr th {\n",
       "        vertical-align: top;\n",
       "    }\n",
       "\n",
       "    .dataframe thead th {\n",
       "        text-align: right;\n",
       "    }\n",
       "</style>\n",
       "<table border=\"1\" class=\"dataframe\">\n",
       "  <thead>\n",
       "    <tr style=\"text-align: right;\">\n",
       "      <th>Truth</th>\n",
       "      <th>Down</th>\n",
       "      <th>Up</th>\n",
       "    </tr>\n",
       "    <tr>\n",
       "      <th>Predicted</th>\n",
       "      <th></th>\n",
       "      <th></th>\n",
       "    </tr>\n",
       "  </thead>\n",
       "  <tbody>\n",
       "    <tr>\n",
       "      <th>Down</th>\n",
       "      <td>9</td>\n",
       "      <td>5</td>\n",
       "    </tr>\n",
       "    <tr>\n",
       "      <th>Up</th>\n",
       "      <td>34</td>\n",
       "      <td>56</td>\n",
       "    </tr>\n",
       "  </tbody>\n",
       "</table>\n",
       "</div>"
      ],
      "text/plain": [
       "Truth      Down  Up\n",
       "Predicted          \n",
       "Down          9   5\n",
       "Up           34  56"
      ]
     },
     "execution_count": 299,
     "metadata": {},
     "output_type": "execute_result"
    }
   ],
   "source": [
    "from sklearn.discriminant_analysis import LinearDiscriminantAnalysis as LDA\n",
    "\n",
    "lda = LDA(store_covariance=True)\n",
    "\n",
    "lda.fit(X_train, y_train)\n",
    "labels = lda.predict(X_test)\n",
    "\n",
    "labels = np.where(labels, \"Up\", \"Down\")\n",
    "\n",
    "conf = confusion_table(labels, weekly_test[\"Direction\"])\n",
    "conf"
   ]
  },
  {
   "cell_type": "code",
   "execution_count": 300,
   "id": "dc1a0748",
   "metadata": {},
   "outputs": [
    {
     "name": "stdout",
     "output_type": "stream",
     "text": [
      "LDA\n",
      "Accuracy: 62.50%\n",
      "Precision (Up): 62.22%\n",
      "Recall (Up): 91.80%\n",
      "Precision (Down): 64.29%\n",
      "Recall (Down): 20.93%\n"
     ]
    }
   ],
   "source": [
    "print(\"LDA\")\n",
    "evaluate_confusion_df(conf)"
   ]
  },
  {
   "cell_type": "markdown",
   "id": "c72b10fd",
   "metadata": {},
   "source": [
    "# QDA"
   ]
  },
  {
   "cell_type": "code",
   "execution_count": 301,
   "id": "2293ebd8",
   "metadata": {},
   "outputs": [
    {
     "data": {
      "text/html": [
       "<div>\n",
       "<style scoped>\n",
       "    .dataframe tbody tr th:only-of-type {\n",
       "        vertical-align: middle;\n",
       "    }\n",
       "\n",
       "    .dataframe tbody tr th {\n",
       "        vertical-align: top;\n",
       "    }\n",
       "\n",
       "    .dataframe thead th {\n",
       "        text-align: right;\n",
       "    }\n",
       "</style>\n",
       "<table border=\"1\" class=\"dataframe\">\n",
       "  <thead>\n",
       "    <tr style=\"text-align: right;\">\n",
       "      <th>Truth</th>\n",
       "      <th>Down</th>\n",
       "      <th>Up</th>\n",
       "    </tr>\n",
       "    <tr>\n",
       "      <th>Predicted</th>\n",
       "      <th></th>\n",
       "      <th></th>\n",
       "    </tr>\n",
       "  </thead>\n",
       "  <tbody>\n",
       "    <tr>\n",
       "      <th>Down</th>\n",
       "      <td>0</td>\n",
       "      <td>0</td>\n",
       "    </tr>\n",
       "    <tr>\n",
       "      <th>Up</th>\n",
       "      <td>43</td>\n",
       "      <td>61</td>\n",
       "    </tr>\n",
       "  </tbody>\n",
       "</table>\n",
       "</div>"
      ],
      "text/plain": [
       "Truth      Down  Up\n",
       "Predicted          \n",
       "Down          0   0\n",
       "Up           43  61"
      ]
     },
     "execution_count": 301,
     "metadata": {},
     "output_type": "execute_result"
    }
   ],
   "source": [
    "from sklearn.discriminant_analysis import QuadraticDiscriminantAnalysis as QDA \n",
    "\n",
    "qda = QDA(store_covariance=True)\n",
    "\n",
    "qda.fit(X_train, y_train)\n",
    "labels = qda.predict(X_test)\n",
    "\n",
    "labels = np.where(labels, \"Up\", \"Down\")\n",
    "\n",
    "conf = confusion_table(labels, weekly_test[\"Direction\"])\n",
    "conf"
   ]
  },
  {
   "cell_type": "code",
   "execution_count": 302,
   "id": "308f62c1",
   "metadata": {},
   "outputs": [
    {
     "name": "stdout",
     "output_type": "stream",
     "text": [
      "QDA\n",
      "Accuracy: 58.65%\n",
      "Precision (Up): 58.65%\n",
      "Recall (Up): 100.00%\n",
      "Precision (Down): Undefined (no Down predictions)\n",
      "Recall (Down): 0.00%\n"
     ]
    }
   ],
   "source": [
    "print(\"QDA\")\n",
    "evaluate_confusion_df(conf)"
   ]
  },
  {
   "cell_type": "markdown",
   "id": "eef29fb8",
   "metadata": {},
   "source": [
    "# KNN"
   ]
  },
  {
   "cell_type": "code",
   "execution_count": 303,
   "id": "d7e85eec",
   "metadata": {},
   "outputs": [
    {
     "data": {
      "text/html": [
       "<div>\n",
       "<style scoped>\n",
       "    .dataframe tbody tr th:only-of-type {\n",
       "        vertical-align: middle;\n",
       "    }\n",
       "\n",
       "    .dataframe tbody tr th {\n",
       "        vertical-align: top;\n",
       "    }\n",
       "\n",
       "    .dataframe thead th {\n",
       "        text-align: right;\n",
       "    }\n",
       "</style>\n",
       "<table border=\"1\" class=\"dataframe\">\n",
       "  <thead>\n",
       "    <tr style=\"text-align: right;\">\n",
       "      <th>Truth</th>\n",
       "      <th>Down</th>\n",
       "      <th>Up</th>\n",
       "    </tr>\n",
       "    <tr>\n",
       "      <th>Predicted</th>\n",
       "      <th></th>\n",
       "      <th></th>\n",
       "    </tr>\n",
       "  </thead>\n",
       "  <tbody>\n",
       "    <tr>\n",
       "      <th>Down</th>\n",
       "      <td>22</td>\n",
       "      <td>30</td>\n",
       "    </tr>\n",
       "    <tr>\n",
       "      <th>Up</th>\n",
       "      <td>21</td>\n",
       "      <td>31</td>\n",
       "    </tr>\n",
       "  </tbody>\n",
       "</table>\n",
       "</div>"
      ],
      "text/plain": [
       "Truth      Down  Up\n",
       "Predicted          \n",
       "Down         22  30\n",
       "Up           21  31"
      ]
     },
     "execution_count": 303,
     "metadata": {},
     "output_type": "execute_result"
    }
   ],
   "source": [
    "from sklearn.neighbors import KNeighborsClassifier as KNN \n",
    "\n",
    "knn = KNN(n_neighbors=1)\n",
    "\n",
    "knn.fit(X_train, y_train)\n",
    "\n",
    "labels = knn.predict(X_test)\n",
    "labels = np.where(labels, \"Up\", \"Down\")\n",
    "\n",
    "conf = confusion_table(labels, weekly_test[\"Direction\"])\n",
    "conf"
   ]
  },
  {
   "cell_type": "code",
   "execution_count": 304,
   "id": "5b5f8c21",
   "metadata": {},
   "outputs": [
    {
     "name": "stdout",
     "output_type": "stream",
     "text": [
      "KNN-1\n",
      "Accuracy: 50.96%\n",
      "Precision (Up): 59.62%\n",
      "Recall (Up): 50.82%\n",
      "Precision (Down): 42.31%\n",
      "Recall (Down): 51.16%\n"
     ]
    }
   ],
   "source": [
    "print(\"KNN-1\")\n",
    "evaluate_confusion_df(conf)"
   ]
  },
  {
   "cell_type": "markdown",
   "id": "e86e77f5",
   "metadata": {},
   "source": [
    "# Naive Bayes"
   ]
  },
  {
   "cell_type": "code",
   "execution_count": 305,
   "id": "ee5a750b",
   "metadata": {},
   "outputs": [
    {
     "data": {
      "text/html": [
       "<div>\n",
       "<style scoped>\n",
       "    .dataframe tbody tr th:only-of-type {\n",
       "        vertical-align: middle;\n",
       "    }\n",
       "\n",
       "    .dataframe tbody tr th {\n",
       "        vertical-align: top;\n",
       "    }\n",
       "\n",
       "    .dataframe thead th {\n",
       "        text-align: right;\n",
       "    }\n",
       "</style>\n",
       "<table border=\"1\" class=\"dataframe\">\n",
       "  <thead>\n",
       "    <tr style=\"text-align: right;\">\n",
       "      <th>Truth</th>\n",
       "      <th>Down</th>\n",
       "      <th>Up</th>\n",
       "    </tr>\n",
       "    <tr>\n",
       "      <th>Predicted</th>\n",
       "      <th></th>\n",
       "      <th></th>\n",
       "    </tr>\n",
       "  </thead>\n",
       "  <tbody>\n",
       "    <tr>\n",
       "      <th>Down</th>\n",
       "      <td>0</td>\n",
       "      <td>0</td>\n",
       "    </tr>\n",
       "    <tr>\n",
       "      <th>Up</th>\n",
       "      <td>43</td>\n",
       "      <td>61</td>\n",
       "    </tr>\n",
       "  </tbody>\n",
       "</table>\n",
       "</div>"
      ],
      "text/plain": [
       "Truth      Down  Up\n",
       "Predicted          \n",
       "Down          0   0\n",
       "Up           43  61"
      ]
     },
     "execution_count": 305,
     "metadata": {},
     "output_type": "execute_result"
    }
   ],
   "source": [
    "from sklearn.naive_bayes import GaussianNB as NB \n",
    "\n",
    "nb = NB()\n",
    "\n",
    "nb.fit(X_train, y_train)\n",
    "\n",
    "labels = nb.predict(X_test)\n",
    "labels = np.where(labels, \"Up\", \"Down\")\n",
    "\n",
    "conf = confusion_table(labels, weekly_test[\"Direction\"])\n",
    "conf"
   ]
  },
  {
   "cell_type": "code",
   "execution_count": 306,
   "id": "b508883d",
   "metadata": {},
   "outputs": [
    {
     "name": "stdout",
     "output_type": "stream",
     "text": [
      "Naive Bayes\n",
      "Accuracy: 58.65%\n",
      "Precision (Up): 58.65%\n",
      "Recall (Up): 100.00%\n",
      "Precision (Down): Undefined (no Down predictions)\n",
      "Recall (Down): 0.00%\n"
     ]
    }
   ],
   "source": [
    "print(\"Naive Bayes\")\n",
    "evaluate_confusion_df(conf)"
   ]
  },
  {
   "cell_type": "markdown",
   "id": "d2bfc8bd",
   "metadata": {},
   "source": [
    "Among the models evaluated, **Logistic Regression** and **Linear Discriminant Analysis (LDA)** performed the best, each achieving an accuracy of **62.50%**. Both models demonstrated strong performance in predicting \"Up\" days, with a **recall of 91.80%** and **precision of 62.22%**, indicating they correctly identified most of the actual \"Up\" days. However, their ability to predict \"Down\" days was weaker, with a **recall of only 20.93%** and **precision of 64.29%**, suggesting that while relatively few \"Down\" days were correctly identified, the ones that were predicted as \"Down\" tended to be accurate.\n",
    "\n",
    "In contrast, **Quadratic Discriminant Analysis (QDA)** and **Naive Bayes** had slightly lower accuracy at **58.65%** and failed to predict any \"Down\" days. This resulted in a perfect **recall of 100.00% for \"Up\"** but **zero recall for \"Down\"**, and their precision for \"Down\" was undefined due to the absence of such predictions. These models were entirely biased toward the majority class (\"Up\") and therefore lacked balance.\n",
    "\n",
    "**K-Nearest Neighbors (KNN)** with $k=1$ performed the worst, with an accuracy of **50.96%**, close to random guessing. It had more balanced recall between the two classes—**50.82% for \"Up\"** and **51.16% for \"Down\"**—but lower precision overall, making it the least reliable model.\n",
    "\n",
    "In summary, **Logistic Regression** and **LDA** provide the most useful predictions for this dataset, offering a reasonable balance between accuracy and class-specific performance. Other models either failed to recognize the minority class or showed poor generalization."
   ]
  },
  {
   "cell_type": "code",
   "execution_count": 307,
   "id": "a25906d0",
   "metadata": {},
   "outputs": [
    {
     "data": {
      "image/png": "[encoded data removed]",
      "text/plain": [
       "<Figure size 640x480 with 1 Axes>"
      ]
     },
     "metadata": {},
     "output_type": "display_data"
    }
   ],
   "source": [
    "accuracies = []\n",
    "\n",
    "for i in range(1, 30):\n",
    "    knn = KNN(n_neighbors=i)\n",
    "\n",
    "    knn.fit(X_train, y_train)\n",
    "\n",
    "    labels = knn.predict(X_test)\n",
    "    labels = np.where(labels, \"Up\", \"Down\")\n",
    "\n",
    "    accuracies.append(np.mean(labels == weekly_test[\"Direction\"]))\n",
    "\n",
    "import matplotlib.pyplot as plt\n",
    "\n",
    "x_knn = range(1, 30)\n",
    "\n",
    "fig, ax = plt.subplots()\n",
    "\n",
    "ax.plot(x_knn, accuracies);"
   ]
  },
  {
   "cell_type": "markdown",
   "id": "0b3c5014",
   "metadata": {},
   "source": [
    "The number of neighbors in the K-Nearest Neighbors (KNN) model has a noticeable impact on prediction accuracy, but the relationship is **non-monotonic** and not straightforward. For instance, the accuracy **dropped sharply to 40% at $K = 2$**, then **rose significantly to 58% at $K = 4$**, only to **fall again below 50% at $K = 5$**. Interestingly, the highest accuracy was observed at **$K = 18$**, just bellow 60%, suggesting that while model performance is sensitive to the choice of $K$, there isn’t a consistent trend of improvement or decline. "
   ]
  },
  {
   "cell_type": "markdown",
   "id": "77d18ce2",
   "metadata": {},
   "source": [
    "After experimenting with multiple predictors and their combinations, including various lags, interaction terms, and volume, none of the resulting models demonstrated improved performance. In fact, all models that extended beyond the use of Lag2 alone resulted in significantly lower classification accuracies. This suggests that adding complexity did not enhance predictive power and may have introduced noise, reinforcing the conclusion that Lag2 remains the most effective standalone predictor in this context."
   ]
  }
 ],
 "metadata": {
  "kernelspec": {
   "display_name": ".venv",
   "language": "python",
   "name": "python3"
  },
  "language_info": {
   "codemirror_mode": {
    "name": "ipython",
    "version": 3
   },
   "file_extension": ".py",
   "mimetype": "text/x-python",
   "name": "python",
   "nbconvert_exporter": "python",
   "pygments_lexer": "ipython3",
   "version": "3.13.3"
  }
 },
 "nbformat": 4,
 "nbformat_minor": 5
}
