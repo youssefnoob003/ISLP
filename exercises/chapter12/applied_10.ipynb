{
 "cells": [
  {
   "cell_type": "code",
   "execution_count": 14,
   "id": "77e3695a",
   "metadata": {},
   "outputs": [
    {
     "name": "stdout",
     "output_type": "stream",
     "text": [
      "(60, 51)\n"
     ]
    },
    {
     "data": {
      "text/html": [
       "<div>\n",
       "<style scoped>\n",
       "    .dataframe tbody tr th:only-of-type {\n",
       "        vertical-align: middle;\n",
       "    }\n",
       "\n",
       "    .dataframe tbody tr th {\n",
       "        vertical-align: top;\n",
       "    }\n",
       "\n",
       "    .dataframe thead th {\n",
       "        text-align: right;\n",
       "    }\n",
       "</style>\n",
       "<table border=\"1\" class=\"dataframe\">\n",
       "  <thead>\n",
       "    <tr style=\"text-align: right;\">\n",
       "      <th></th>\n",
       "      <th>Var1</th>\n",
       "      <th>Var2</th>\n",
       "      <th>Var3</th>\n",
       "      <th>Var4</th>\n",
       "      <th>Var5</th>\n",
       "      <th>Var6</th>\n",
       "      <th>Var7</th>\n",
       "      <th>Var8</th>\n",
       "      <th>Var9</th>\n",
       "      <th>Var10</th>\n",
       "      <th>...</th>\n",
       "      <th>Var42</th>\n",
       "      <th>Var43</th>\n",
       "      <th>Var44</th>\n",
       "      <th>Var45</th>\n",
       "      <th>Var46</th>\n",
       "      <th>Var47</th>\n",
       "      <th>Var48</th>\n",
       "      <th>Var49</th>\n",
       "      <th>Var50</th>\n",
       "      <th>Class</th>\n",
       "    </tr>\n",
       "  </thead>\n",
       "  <tbody>\n",
       "    <tr>\n",
       "      <th>0</th>\n",
       "      <td>1.128522</td>\n",
       "      <td>0.144192</td>\n",
       "      <td>-1.115259</td>\n",
       "      <td>1.231047</td>\n",
       "      <td>-0.154658</td>\n",
       "      <td>-0.598387</td>\n",
       "      <td>0.348992</td>\n",
       "      <td>1.220590</td>\n",
       "      <td>-0.828710</td>\n",
       "      <td>-1.111059</td>\n",
       "      <td>...</td>\n",
       "      <td>-0.112448</td>\n",
       "      <td>-1.268209</td>\n",
       "      <td>0.693560</td>\n",
       "      <td>-0.733104</td>\n",
       "      <td>1.825461</td>\n",
       "      <td>-0.542845</td>\n",
       "      <td>-0.428675</td>\n",
       "      <td>1.298150</td>\n",
       "      <td>-0.187316</td>\n",
       "      <td>0</td>\n",
       "    </tr>\n",
       "    <tr>\n",
       "      <th>1</th>\n",
       "      <td>-1.625162</td>\n",
       "      <td>0.171199</td>\n",
       "      <td>0.998721</td>\n",
       "      <td>-0.753072</td>\n",
       "      <td>-0.155969</td>\n",
       "      <td>-1.353352</td>\n",
       "      <td>-0.508438</td>\n",
       "      <td>-0.642441</td>\n",
       "      <td>-1.082769</td>\n",
       "      <td>0.419924</td>\n",
       "      <td>...</td>\n",
       "      <td>-0.794410</td>\n",
       "      <td>-1.000170</td>\n",
       "      <td>-0.109478</td>\n",
       "      <td>-0.945520</td>\n",
       "      <td>0.463507</td>\n",
       "      <td>0.765820</td>\n",
       "      <td>0.770248</td>\n",
       "      <td>0.617435</td>\n",
       "      <td>0.385865</td>\n",
       "      <td>0</td>\n",
       "    </tr>\n",
       "    <tr>\n",
       "      <th>2</th>\n",
       "      <td>-1.004158</td>\n",
       "      <td>-0.927005</td>\n",
       "      <td>-1.300834</td>\n",
       "      <td>0.689173</td>\n",
       "      <td>-0.363391</td>\n",
       "      <td>1.504925</td>\n",
       "      <td>-0.653638</td>\n",
       "      <td>-0.259949</td>\n",
       "      <td>0.707442</td>\n",
       "      <td>-0.042887</td>\n",
       "      <td>...</td>\n",
       "      <td>0.944769</td>\n",
       "      <td>-0.594033</td>\n",
       "      <td>-1.173801</td>\n",
       "      <td>-0.092016</td>\n",
       "      <td>0.135533</td>\n",
       "      <td>-0.033977</td>\n",
       "      <td>-1.285883</td>\n",
       "      <td>0.941032</td>\n",
       "      <td>0.076042</td>\n",
       "      <td>0</td>\n",
       "    </tr>\n",
       "    <tr>\n",
       "      <th>3</th>\n",
       "      <td>-0.749854</td>\n",
       "      <td>-0.644565</td>\n",
       "      <td>-1.633844</td>\n",
       "      <td>1.193066</td>\n",
       "      <td>-0.652957</td>\n",
       "      <td>-0.150307</td>\n",
       "      <td>0.053362</td>\n",
       "      <td>0.011234</td>\n",
       "      <td>1.012606</td>\n",
       "      <td>0.155570</td>\n",
       "      <td>...</td>\n",
       "      <td>1.499244</td>\n",
       "      <td>0.651136</td>\n",
       "      <td>-0.546928</td>\n",
       "      <td>0.690408</td>\n",
       "      <td>0.720853</td>\n",
       "      <td>2.611067</td>\n",
       "      <td>1.963099</td>\n",
       "      <td>-0.608866</td>\n",
       "      <td>1.020380</td>\n",
       "      <td>0</td>\n",
       "    </tr>\n",
       "    <tr>\n",
       "      <th>4</th>\n",
       "      <td>0.254735</td>\n",
       "      <td>0.063640</td>\n",
       "      <td>1.653682</td>\n",
       "      <td>0.122274</td>\n",
       "      <td>0.800946</td>\n",
       "      <td>0.921891</td>\n",
       "      <td>0.003504</td>\n",
       "      <td>-1.011480</td>\n",
       "      <td>-0.836422</td>\n",
       "      <td>0.082595</td>\n",
       "      <td>...</td>\n",
       "      <td>-0.544887</td>\n",
       "      <td>-1.105294</td>\n",
       "      <td>-1.873340</td>\n",
       "      <td>-0.632110</td>\n",
       "      <td>0.591903</td>\n",
       "      <td>-0.691596</td>\n",
       "      <td>-0.042187</td>\n",
       "      <td>0.489304</td>\n",
       "      <td>-0.347755</td>\n",
       "      <td>0</td>\n",
       "    </tr>\n",
       "  </tbody>\n",
       "</table>\n",
       "<p>5 rows × 51 columns</p>\n",
       "</div>"
      ],
      "text/plain": [
       "       Var1      Var2      Var3      Var4      Var5      Var6      Var7  \\\n",
       "0  1.128522  0.144192 -1.115259  1.231047 -0.154658 -0.598387  0.348992   \n",
       "1 -1.625162  0.171199  0.998721 -0.753072 -0.155969 -1.353352 -0.508438   \n",
       "2 -1.004158 -0.927005 -1.300834  0.689173 -0.363391  1.504925 -0.653638   \n",
       "3 -0.749854 -0.644565 -1.633844  1.193066 -0.652957 -0.150307  0.053362   \n",
       "4  0.254735  0.063640  1.653682  0.122274  0.800946  0.921891  0.003504   \n",
       "\n",
       "       Var8      Var9     Var10  ...     Var42     Var43     Var44     Var45  \\\n",
       "0  1.220590 -0.828710 -1.111059  ... -0.112448 -1.268209  0.693560 -0.733104   \n",
       "1 -0.642441 -1.082769  0.419924  ... -0.794410 -1.000170 -0.109478 -0.945520   \n",
       "2 -0.259949  0.707442 -0.042887  ...  0.944769 -0.594033 -1.173801 -0.092016   \n",
       "3  0.011234  1.012606  0.155570  ...  1.499244  0.651136 -0.546928  0.690408   \n",
       "4 -1.011480 -0.836422  0.082595  ... -0.544887 -1.105294 -1.873340 -0.632110   \n",
       "\n",
       "      Var46     Var47     Var48     Var49     Var50  Class  \n",
       "0  1.825461 -0.542845 -0.428675  1.298150 -0.187316      0  \n",
       "1  0.463507  0.765820  0.770248  0.617435  0.385865      0  \n",
       "2  0.135533 -0.033977 -1.285883  0.941032  0.076042      0  \n",
       "3  0.720853  2.611067  1.963099 -0.608866  1.020380      0  \n",
       "4  0.591903 -0.691596 -0.042187  0.489304 -0.347755      0  \n",
       "\n",
       "[5 rows x 51 columns]"
      ]
     },
     "execution_count": 14,
     "metadata": {},
     "output_type": "execute_result"
    }
   ],
   "source": [
    "import numpy as np\n",
    "import pandas as pd\n",
    "\n",
    "np.random.seed(67)\n",
    "\n",
    "n_classes = 3\n",
    "n_obs_per_class = 20\n",
    "n_features = 50\n",
    "\n",
    "data = []\n",
    "labels = []\n",
    "\n",
    "for class_id in range(n_classes):\n",
    "    mean_shift = np.zeros(n_features)\n",
    "    mean_shift[:5] = class_id * 2\n",
    "    \n",
    "    class_data = np.random.normal(loc=mean_shift, scale=1.0, size=(n_obs_per_class, n_features))\n",
    "    \n",
    "    data.append(class_data)\n",
    "    labels.extend([class_id] * n_obs_per_class)\n",
    "\n",
    "X = np.vstack(data)\n",
    "y = np.array(labels)\n",
    "\n",
    "df = pd.DataFrame(X, columns=[f\"Var{i+1}\" for i in range(n_features)])\n",
    "df[\"Class\"] = y\n",
    "\n",
    "print(df.shape)\n",
    "df.head()"
   ]
  },
  {
   "cell_type": "code",
   "execution_count": 15,
   "id": "68769a95",
   "metadata": {},
   "outputs": [
    {
     "data": {
      "image/png": "[encoded data removed]",
      "text/plain": [
       "<Figure size 800x600 with 1 Axes>"
      ]
     },
     "metadata": {},
     "output_type": "display_data"
    }
   ],
   "source": [
    "import matplotlib.pyplot as plt\n",
    "from sklearn.decomposition import PCA\n",
    "\n",
    "pca = PCA(n_components=2)\n",
    "X_pca = pca.fit_transform(X)\n",
    "\n",
    "plt.figure(figsize=(8,6))\n",
    "for class_id, color in zip(range(3), [\"red\", \"green\", \"blue\"]):\n",
    "    plt.scatter(\n",
    "        X_pca[y == class_id, 0],\n",
    "        X_pca[y == class_id, 1],\n",
    "        label=f\"Class {class_id+1}\",\n",
    "        color=color,\n",
    "        edgecolor=\"k\",\n",
    "        s=70\n",
    "    )\n",
    "\n",
    "plt.xlabel(\"PC 1\")\n",
    "plt.ylabel(\"PC 2\")\n",
    "plt.title(\"PCA of Simulated Data (First Two PCs)\")\n",
    "plt.legend()\n",
    "plt.show()\n"
   ]
  },
  {
   "cell_type": "code",
   "execution_count": 17,
   "id": "eb822ca6",
   "metadata": {},
   "outputs": [
    {
     "data": {
      "text/html": [
       "<div>\n",
       "<style scoped>\n",
       "    .dataframe tbody tr th:only-of-type {\n",
       "        vertical-align: middle;\n",
       "    }\n",
       "\n",
       "    .dataframe tbody tr th {\n",
       "        vertical-align: top;\n",
       "    }\n",
       "\n",
       "    .dataframe thead th {\n",
       "        text-align: right;\n",
       "    }\n",
       "</style>\n",
       "<table border=\"1\" class=\"dataframe\">\n",
       "  <thead>\n",
       "    <tr style=\"text-align: right;\">\n",
       "      <th>Cluster</th>\n",
       "      <th>0</th>\n",
       "      <th>1</th>\n",
       "      <th>2</th>\n",
       "    </tr>\n",
       "    <tr>\n",
       "      <th>True Class</th>\n",
       "      <th></th>\n",
       "      <th></th>\n",
       "      <th></th>\n",
       "    </tr>\n",
       "  </thead>\n",
       "  <tbody>\n",
       "    <tr>\n",
       "      <th>0</th>\n",
       "      <td>0</td>\n",
       "      <td>0</td>\n",
       "      <td>20</td>\n",
       "    </tr>\n",
       "    <tr>\n",
       "      <th>1</th>\n",
       "      <td>2</td>\n",
       "      <td>16</td>\n",
       "      <td>2</td>\n",
       "    </tr>\n",
       "    <tr>\n",
       "      <th>2</th>\n",
       "      <td>2</td>\n",
       "      <td>18</td>\n",
       "      <td>0</td>\n",
       "    </tr>\n",
       "  </tbody>\n",
       "</table>\n",
       "</div>"
      ],
      "text/plain": [
       "Cluster     0   1   2\n",
       "True Class           \n",
       "0           0   0  20\n",
       "1           2  16   2\n",
       "2           2  18   0"
      ]
     },
     "execution_count": 17,
     "metadata": {},
     "output_type": "execute_result"
    }
   ],
   "source": [
    "from sklearn.cluster import KMeans\n",
    "\n",
    "kmeans = KMeans(n_clusters=3, random_state=67)\n",
    "cluster_labels = kmeans.fit_predict(X)\n",
    "\n",
    "comparison = pd.crosstab(y, cluster_labels, rownames=[\"True Class\"], colnames=[\"Cluster\"])\n",
    "comparison"
   ]
  },
  {
   "cell_type": "markdown",
   "id": "39b7da28",
   "metadata": {},
   "source": [
    "The K-means clustering with $K=3$ generally captures the structure of the data, but it is not a perfect match to the true class labels. True Class 0 is perfectly identified, with all 20 observations assigned to Cluster 2. True Class 1 is mostly assigned to Cluster 0 (19 out of 20 observations), with one observation misclassified into Cluster 2. True Class 2 is mostly assigned to Cluster 1 (19 out of 20 observations), with one observation misclassified into Cluster 0. Overall, the clustering aligns closely with the true classes, but there are a few misclassifications, likely due to overlapping features or variability in the simulated data. The arbitrary numbering of K-means clusters means that the cluster labels do not correspond directly to the true class labels, but the assignment patterns clearly reveal the three distinct groups."
   ]
  },
  {
   "cell_type": "code",
   "execution_count": null,
   "id": "b13a4b5e",
   "metadata": {},
   "outputs": [
    {
     "name": "stdout",
     "output_type": "stream",
     "text": [
      "Cluster      0   1\n",
      "True Class        \n",
      "0           20   0\n",
      "1            3  17\n",
      "2            0  20\n"
     ]
    }
   ],
   "source": [
    "kmeans_2 = KMeans(n_clusters=2, random_state=67)\n",
    "cluster_labels_2 = kmeans_2.fit_predict(X)\n",
    "\n",
    "comparison_2 = pd.crosstab(y, cluster_labels_2, rownames=[\"True Class\"], colnames=[\"Cluster\"])\n",
    "print(comparison_2)"
   ]
  },
  {
   "cell_type": "markdown",
   "id": "cb70c97f",
   "metadata": {},
   "source": [
    "When K-means clustering is performed with $K=2$, the algorithm divides the 60 observations into two clusters, but it cannot fully separate the three true classes. True Class 0 is perfectly captured in Cluster 0, with all 20 observations correctly assigned. True Class 2 is mostly assigned to Cluster 1, while True Class 1 is split between the two clusters: 17 observations are assigned to Cluster 1 and 3 to Cluster 0. This indicates that K-means has merged True Classes 1 and 2 into a single cluster, reflecting the limitation of forcing the data into fewer clusters than the actual number of underlying groups. Overall, the results illustrate that choosing $K$ smaller than the true number of classes can lead to cluster merging and loss of class-level distinctions."
   ]
  },
  {
   "cell_type": "code",
   "execution_count": 19,
   "id": "6d9d4d2f",
   "metadata": {},
   "outputs": [
    {
     "name": "stdout",
     "output_type": "stream",
     "text": [
      "Cluster     0   1   2   3\n",
      "True Class               \n",
      "0           0   0  20   0\n",
      "1           2  16   2   0\n",
      "2           1   1   0  18\n"
     ]
    }
   ],
   "source": [
    "kmeans_4 = KMeans(n_clusters=4, random_state=67)\n",
    "cluster_labels_4 = kmeans_4.fit_predict(X)\n",
    "\n",
    "comparison_4 = pd.crosstab(y, cluster_labels_4, rownames=[\"True Class\"], colnames=[\"Cluster\"])\n",
    "print(comparison_4)"
   ]
  },
  {
   "cell_type": "markdown",
   "id": "cac5c9ae",
   "metadata": {},
   "source": [
    "When K-means clustering is performed with $K=4$, the algorithm divides the observations into four clusters. True Class 0 is perfectly captured in Cluster 2. True Class 2 is mostly assigned to Cluster 3, with one observation misclassified into Cluster 0 and one into Cluster 1. True Class 1 is split mainly between Cluster 1 (16 observations) and a few misclassified into Clusters 0 and 2. This indicates that increasing $K$ beyond the true number of classes can lead to splitting of natural groups, producing additional clusters that do not correspond to distinct classes. Overall, the clustering is mostly consistent with the true class structure, but the extra cluster introduces fragmentation."
   ]
  },
  {
   "cell_type": "code",
   "execution_count": 20,
   "id": "01006b71",
   "metadata": {},
   "outputs": [
    {
     "name": "stdout",
     "output_type": "stream",
     "text": [
      "Cluster      0   1   2\n",
      "True Class            \n",
      "0            0   0  20\n",
      "1           19   0   1\n",
      "2            1  19   0\n"
     ]
    }
   ],
   "source": [
    "kmeans_pca = KMeans(n_clusters=3, random_state=67)\n",
    "cluster_labels_pca = kmeans_pca.fit_predict(X_pca)\n",
    "\n",
    "comparison_pca = pd.crosstab(y, cluster_labels_pca, rownames=[\"True Class\"], colnames=[\"Cluster\"])\n",
    "print(comparison_pca)"
   ]
  },
  {
   "cell_type": "markdown",
   "id": "93a06df9",
   "metadata": {},
   "source": [
    "Performing K-means clustering on the first two principal component score vectors produces results that are essentially identical to clustering on the full 50-dimensional data. True Class 0 is perfectly assigned to Cluster 2. True Class 1 is mostly assigned to Cluster 0, with one observation misclassified into Cluster 2. True Class 2 is mostly assigned to Cluster 1, with one observation misclassified into Cluster 0. This shows that the first two principal components capture the key structure of the data that distinguishes the three classes, and clustering on these reduced dimensions can recover the class groupings just as accurately as clustering on the raw data. It also highlights how PCA can simplify high-dimensional data without losing critical information for clustering."
   ]
  },
  {
   "cell_type": "code",
   "execution_count": 21,
   "id": "89be9d60",
   "metadata": {},
   "outputs": [
    {
     "name": "stdout",
     "output_type": "stream",
     "text": [
      "Cluster      0  1   2\n",
      "True Class           \n",
      "0            0  5  15\n",
      "1            3  4  13\n",
      "2           14  1   5\n"
     ]
    }
   ],
   "source": [
    "from sklearn.preprocessing import StandardScaler\n",
    "\n",
    "scaler = StandardScaler()\n",
    "X_scaled = scaler.fit_transform(X)\n",
    "\n",
    "kmeans_scaled = KMeans(n_clusters=3, random_state=67)\n",
    "cluster_labels_scaled = kmeans_scaled.fit_predict(X_scaled)\n",
    "\n",
    "comparison_scaled = pd.crosstab(y, cluster_labels_scaled, rownames=[\"True Class\"], colnames=[\"Cluster\"])\n",
    "print(comparison_scaled)"
   ]
  },
  {
   "cell_type": "markdown",
   "id": "1eb0a312",
   "metadata": {},
   "source": [
    "When K-means clustering is performed on the standardized data, the results differ substantially from those obtained on the raw data. True Class 0 is mostly assigned to Cluster 2, but five observations are misclassified into Cluster 1. True Class 1 is also primarily in Cluster 2, with some observations scattered across Clusters 0 and 1. True Class 2 is now largely misclassified, with 14 observations assigned to Cluster 0, one to Cluster 1, and only five correctly assigned to Cluster 2. This demonstrates that scaling all variables to have standard deviation one can dilute the influence of the original mean shifts applied to a subset of variables, which were the key features separating the classes. As a result, clustering performance worsens significantly compared to using the unscaled data."
   ]
  }
 ],
 "metadata": {
  "kernelspec": {
   "display_name": ".venv",
   "language": "python",
   "name": "python3"
  },
  "language_info": {
   "codemirror_mode": {
    "name": "ipython",
    "version": 3
   },
   "file_extension": ".py",
   "mimetype": "text/x-python",
   "name": "python",
   "nbconvert_exporter": "python",
   "pygments_lexer": "ipython3",
   "version": "3.10.12"
  }
 },
 "nbformat": 4,
 "nbformat_minor": 5
}
