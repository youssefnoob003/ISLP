{
 "cells": [
  {
   "cell_type": "code",
   "execution_count": 20,
   "id": "76409815",
   "metadata": {},
   "outputs": [
    {
     "data": {
      "text/html": [
       "<div>\n",
       "<style scoped>\n",
       "    .dataframe tbody tr th:only-of-type {\n",
       "        vertical-align: middle;\n",
       "    }\n",
       "\n",
       "    .dataframe tbody tr th {\n",
       "        vertical-align: top;\n",
       "    }\n",
       "\n",
       "    .dataframe thead th {\n",
       "        text-align: right;\n",
       "    }\n",
       "</style>\n",
       "<table border=\"1\" class=\"dataframe\">\n",
       "  <thead>\n",
       "    <tr style=\"text-align: right;\">\n",
       "      <th></th>\n",
       "      <th>Murder</th>\n",
       "      <th>Assault</th>\n",
       "      <th>UrbanPop</th>\n",
       "      <th>Rape</th>\n",
       "    </tr>\n",
       "    <tr>\n",
       "      <th>rownames</th>\n",
       "      <th></th>\n",
       "      <th></th>\n",
       "      <th></th>\n",
       "      <th></th>\n",
       "    </tr>\n",
       "  </thead>\n",
       "  <tbody>\n",
       "    <tr>\n",
       "      <th>Alabama</th>\n",
       "      <td>13.2</td>\n",
       "      <td>236</td>\n",
       "      <td>58</td>\n",
       "      <td>21.2</td>\n",
       "    </tr>\n",
       "    <tr>\n",
       "      <th>Alaska</th>\n",
       "      <td>10.0</td>\n",
       "      <td>263</td>\n",
       "      <td>48</td>\n",
       "      <td>44.5</td>\n",
       "    </tr>\n",
       "    <tr>\n",
       "      <th>Arizona</th>\n",
       "      <td>8.1</td>\n",
       "      <td>294</td>\n",
       "      <td>80</td>\n",
       "      <td>31.0</td>\n",
       "    </tr>\n",
       "    <tr>\n",
       "      <th>Arkansas</th>\n",
       "      <td>8.8</td>\n",
       "      <td>190</td>\n",
       "      <td>50</td>\n",
       "      <td>19.5</td>\n",
       "    </tr>\n",
       "    <tr>\n",
       "      <th>California</th>\n",
       "      <td>9.0</td>\n",
       "      <td>276</td>\n",
       "      <td>91</td>\n",
       "      <td>40.6</td>\n",
       "    </tr>\n",
       "  </tbody>\n",
       "</table>\n",
       "</div>"
      ],
      "text/plain": [
       "            Murder  Assault  UrbanPop  Rape\n",
       "rownames                                   \n",
       "Alabama       13.2      236        58  21.2\n",
       "Alaska        10.0      263        48  44.5\n",
       "Arizona        8.1      294        80  31.0\n",
       "Arkansas       8.8      190        50  19.5\n",
       "California     9.0      276        91  40.6"
      ]
     },
     "execution_count": 20,
     "metadata": {},
     "output_type": "execute_result"
    }
   ],
   "source": [
    "from statsmodels.datasets import get_rdataset\n",
    "\n",
    "USArrests = get_rdataset('USArrests').data\n",
    "USArrests.head()"
   ]
  },
  {
   "cell_type": "code",
   "execution_count": 33,
   "id": "52b560c5",
   "metadata": {},
   "outputs": [
    {
     "name": "stdout",
     "output_type": "stream",
     "text": [
      "Euclidean distance (first 5 rows, first 5 columns):\n",
      "[[ 0.          7.4594756   5.36758447  1.69756151 10.86519304]\n",
      " [ 7.4594756   0.          7.44231842  8.14948396  9.26061863]\n",
      " [ 5.36758447  7.44231842  0.          7.53694915  1.75241723]\n",
      " [ 1.69756151  8.14948396  7.53694915  0.         14.45407425]\n",
      " [10.86519304  9.26061863  1.75241723 14.45407425  0.        ]]\n",
      "\n",
      "Correlation-based distance (first 5 rows, first 5 columns):\n",
      "[[0.         0.71383078 1.44659478 0.08774168 1.86592233]\n",
      " [0.71383078 0.         0.83072459 0.36727856 0.81371281]\n",
      " [1.44659478 0.83072459 0.         1.17665542 0.29490175]\n",
      " [0.08774168 0.36727856 1.17665542 0.         1.58631264]\n",
      " [1.86592233 0.81371281 0.29490175 1.58631264 0.        ]]\n"
     ]
    }
   ],
   "source": [
    "import numpy as np\n",
    "from sklearn.metrics import pairwise_distances\n",
    "from sklearn.preprocessing import StandardScaler\n",
    "\n",
    "scaler = StandardScaler(with_mean=True,\n",
    "                        with_std=True,\n",
    "                        copy=True)\n",
    "\n",
    "\n",
    "scaler.fit(USArrests)\n",
    "X_std = scaler.transform(USArrests)\n",
    "\n",
    "euclidean_dist = pairwise_distances(X_std) ** 2\n",
    "\n",
    "correlation_matrix = np.corrcoef(X_std)\n",
    "\n",
    "corr_distance = 1 - correlation_matrix\n",
    "\n",
    "print(\"Euclidean distance (first 5 rows, first 5 columns):\")\n",
    "print(euclidean_dist[:5, :5])\n",
    "\n",
    "print(\"\\nCorrelation-based distance (first 5 rows, first 5 columns):\")\n",
    "print(corr_distance[:5, :5])"
   ]
  }
 ],
 "metadata": {
  "kernelspec": {
   "display_name": ".venv",
   "language": "python",
   "name": "python3"
  },
  "language_info": {
   "codemirror_mode": {
    "name": "ipython",
    "version": 3
   },
   "file_extension": ".py",
   "mimetype": "text/x-python",
   "name": "python",
   "nbconvert_exporter": "python",
   "pygments_lexer": "ipython3",
   "version": "3.10.12"
  }
 },
 "nbformat": 4,
 "nbformat_minor": 5
}
