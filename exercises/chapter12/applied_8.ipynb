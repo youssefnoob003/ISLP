{
 "cells": [
  {
   "cell_type": "code",
   "execution_count": null,
   "id": "58eb9f66",
   "metadata": {},
   "outputs": [
    {
     "name": "stdout",
     "output_type": "stream",
     "text": [
      "(a) PVE from explained_variance_ratio_:\n",
      "[0.62006039 0.24744129 0.0891408  0.04335752]\n",
      "\n",
      "(b) PVE using Equation 12.10:\n",
      "[0.62006039 0.24744129 0.0891408  0.04335752]\n"
     ]
    }
   ],
   "source": [
    "import numpy as np\n",
    "from sklearn.decomposition import PCA\n",
    "from sklearn.preprocessing import StandardScaler\n",
    "from statsmodels.datasets import get_rdataset\n",
    "\n",
    "USArrests = get_rdataset('USArrests').data\n",
    "\n",
    "X = StandardScaler().fit_transform(USArrests)\n",
    "\n",
    "pca = PCA()\n",
    "pca.fit(X)\n",
    "\n",
    "pve_a = pca.explained_variance_ratio_\n",
    "\n",
    "loadings = pca.components_\n",
    "\n",
    "scores = X @ loadings.T\n",
    "\n",
    "numerator = np.sum(scores**2, axis=0)\n",
    "\n",
    "denominator = np.sum(X**2)\n",
    "\n",
    "pve_b = numerator / denominator\n",
    "\n",
    "print(\"(a) PVE from explained_variance_ratio_:\")\n",
    "print(pve_a)\n",
    "print(\"\\n(b) PVE using Equation 12.10:\")\n",
    "print(pve_b)\n"
   ]
  }
 ],
 "metadata": {
  "kernelspec": {
   "display_name": ".venv",
   "language": "python",
   "name": "python3"
  },
  "language_info": {
   "codemirror_mode": {
    "name": "ipython",
    "version": 3
   },
   "file_extension": ".py",
   "mimetype": "text/x-python",
   "name": "python",
   "nbconvert_exporter": "python",
   "pygments_lexer": "ipython3",
   "version": "3.10.12"
  }
 },
 "nbformat": 4,
 "nbformat_minor": 5
}
