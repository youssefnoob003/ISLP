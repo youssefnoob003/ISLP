{
 "cells": [
  {
   "cell_type": "code",
   "execution_count": null,
   "id": "3cd7ef73",
   "metadata": {},
   "outputs": [],
   "source": [
    "import numpy as np\n",
    "\n",
    "rng = np.random.default_rng(1)\n",
    "x = rng.normal(size=100)\n",
    "y = 2 * x + rng.normal(size=100)"
   ]
  },
  {
   "cell_type": "code",
   "execution_count": 52,
   "id": "a426c122",
   "metadata": {},
   "outputs": [
    {
     "data": {
      "image/png": "[encoded data removed]",
      "text/plain": [
       "<Figure size 640x480 with 1 Axes>"
      ]
     },
     "metadata": {},
     "output_type": "display_data"
    }
   ],
   "source": [
    "import matplotlib.pyplot as plt\n",
    "\n",
    "fig, ax = plt.subplots()\n",
    "\n",
    "ax.scatter(x, y);"
   ]
  },
  {
   "cell_type": "code",
   "execution_count": 53,
   "id": "6aecc38b",
   "metadata": {},
   "outputs": [
    {
     "data": {
      "text/html": [
       "<table class=\"simpletable\">\n",
       "<caption>OLS Regression Results</caption>\n",
       "<tr>\n",
       "  <th>Dep. Variable:</th>            <td>y</td>        <th>  R-squared (uncentered):</th>      <td>   0.743</td>\n",
       "</tr>\n",
       "<tr>\n",
       "  <th>Model:</th>                   <td>OLS</td>       <th>  Adj. R-squared (uncentered):</th> <td>   0.740</td>\n",
       "</tr>\n",
       "<tr>\n",
       "  <th>Method:</th>             <td>Least Squares</td>  <th>  F-statistic:       </th>          <td>   285.6</td>\n",
       "</tr>\n",
       "<tr>\n",
       "  <th>Date:</th>             <td>Fri, 18 Jul 2025</td> <th>  Prob (F-statistic):</th>          <td>6.23e-31</td>\n",
       "</tr>\n",
       "<tr>\n",
       "  <th>Time:</th>                 <td>16:23:37</td>     <th>  Log-Likelihood:    </th>          <td> -141.35</td>\n",
       "</tr>\n",
       "<tr>\n",
       "  <th>No. Observations:</th>      <td>   100</td>      <th>  AIC:               </th>          <td>   284.7</td>\n",
       "</tr>\n",
       "<tr>\n",
       "  <th>Df Residuals:</th>          <td>    99</td>      <th>  BIC:               </th>          <td>   287.3</td>\n",
       "</tr>\n",
       "<tr>\n",
       "  <th>Df Model:</th>              <td>     1</td>      <th>                     </th>              <td> </td>   \n",
       "</tr>\n",
       "<tr>\n",
       "  <th>Covariance Type:</th>      <td>nonrobust</td>    <th>                     </th>              <td> </td>   \n",
       "</tr>\n",
       "</table>\n",
       "<table class=\"simpletable\">\n",
       "<tr>\n",
       "   <td></td>     <th>coef</th>     <th>std err</th>      <th>t</th>      <th>P>|t|</th>  <th>[0.025</th>    <th>0.975]</th>  \n",
       "</tr>\n",
       "<tr>\n",
       "  <th>x1</th> <td>    1.9762</td> <td>    0.117</td> <td>   16.898</td> <td> 0.000</td> <td>    1.744</td> <td>    2.208</td>\n",
       "</tr>\n",
       "</table>\n",
       "<table class=\"simpletable\">\n",
       "<tr>\n",
       "  <th>Omnibus:</th>       <td> 1.376</td> <th>  Durbin-Watson:     </th> <td>   2.184</td>\n",
       "</tr>\n",
       "<tr>\n",
       "  <th>Prob(Omnibus):</th> <td> 0.503</td> <th>  Jarque-Bera (JB):  </th> <td>   0.847</td>\n",
       "</tr>\n",
       "<tr>\n",
       "  <th>Skew:</th>          <td> 0.121</td> <th>  Prob(JB):          </th> <td>   0.655</td>\n",
       "</tr>\n",
       "<tr>\n",
       "  <th>Kurtosis:</th>      <td> 3.381</td> <th>  Cond. No.          </th> <td>    1.00</td>\n",
       "</tr>\n",
       "</table><br/><br/>Notes:<br/>[1] R² is computed without centering (uncentered) since the model does not contain a constant.<br/>[2] Standard Errors assume that the covariance matrix of the errors is correctly specified."
      ],
      "text/latex": [
       "\\begin{center}\n",
       "\\begin{tabular}{lclc}\n",
       "\\toprule\n",
       "\\textbf{Dep. Variable:}    &        y         & \\textbf{  R-squared (uncentered):}      &     0.743   \\\\\n",
       "\\textbf{Model:}            &       OLS        & \\textbf{  Adj. R-squared (uncentered):} &     0.740   \\\\\n",
       "\\textbf{Method:}           &  Least Squares   & \\textbf{  F-statistic:       }          &     285.6   \\\\\n",
       "\\textbf{Date:}             & Fri, 18 Jul 2025 & \\textbf{  Prob (F-statistic):}          &  6.23e-31   \\\\\n",
       "\\textbf{Time:}             &     16:23:37     & \\textbf{  Log-Likelihood:    }          &   -141.35   \\\\\n",
       "\\textbf{No. Observations:} &         100      & \\textbf{  AIC:               }          &     284.7   \\\\\n",
       "\\textbf{Df Residuals:}     &          99      & \\textbf{  BIC:               }          &     287.3   \\\\\n",
       "\\textbf{Df Model:}         &           1      & \\textbf{                     }          &             \\\\\n",
       "\\textbf{Covariance Type:}  &    nonrobust     & \\textbf{                     }          &             \\\\\n",
       "\\bottomrule\n",
       "\\end{tabular}\n",
       "\\begin{tabular}{lcccccc}\n",
       "            & \\textbf{coef} & \\textbf{std err} & \\textbf{t} & \\textbf{P$> |$t$|$} & \\textbf{[0.025} & \\textbf{0.975]}  \\\\\n",
       "\\midrule\n",
       "\\textbf{x1} &       1.9762  &        0.117     &    16.898  &         0.000        &        1.744    &        2.208     \\\\\n",
       "\\bottomrule\n",
       "\\end{tabular}\n",
       "\\begin{tabular}{lclc}\n",
       "\\textbf{Omnibus:}       &  1.376 & \\textbf{  Durbin-Watson:     } &    2.184  \\\\\n",
       "\\textbf{Prob(Omnibus):} &  0.503 & \\textbf{  Jarque-Bera (JB):  } &    0.847  \\\\\n",
       "\\textbf{Skew:}          &  0.121 & \\textbf{  Prob(JB):          } &    0.655  \\\\\n",
       "\\textbf{Kurtosis:}      &  3.381 & \\textbf{  Cond. No.          } &     1.00  \\\\\n",
       "\\bottomrule\n",
       "\\end{tabular}\n",
       "%\\caption{OLS Regression Results}\n",
       "\\end{center}\n",
       "\n",
       "Notes: \\newline\n",
       " [1] R² is computed without centering (uncentered) since the model does not contain a constant. \\newline\n",
       " [2] Standard Errors assume that the covariance matrix of the errors is correctly specified."
      ],
      "text/plain": [
       "<class 'statsmodels.iolib.summary.Summary'>\n",
       "\"\"\"\n",
       "                                 OLS Regression Results                                \n",
       "=======================================================================================\n",
       "Dep. Variable:                      y   R-squared (uncentered):                   0.743\n",
       "Model:                            OLS   Adj. R-squared (uncentered):              0.740\n",
       "Method:                 Least Squares   F-statistic:                              285.6\n",
       "Date:                Fri, 18 Jul 2025   Prob (F-statistic):                    6.23e-31\n",
       "Time:                        16:23:37   Log-Likelihood:                         -141.35\n",
       "No. Observations:                 100   AIC:                                      284.7\n",
       "Df Residuals:                      99   BIC:                                      287.3\n",
       "Df Model:                           1                                                  \n",
       "Covariance Type:            nonrobust                                                  \n",
       "==============================================================================\n",
       "                 coef    std err          t      P>|t|      [0.025      0.975]\n",
       "------------------------------------------------------------------------------\n",
       "x1             1.9762      0.117     16.898      0.000       1.744       2.208\n",
       "==============================================================================\n",
       "Omnibus:                        1.376   Durbin-Watson:                   2.184\n",
       "Prob(Omnibus):                  0.503   Jarque-Bera (JB):                0.847\n",
       "Skew:                           0.121   Prob(JB):                        0.655\n",
       "Kurtosis:                       3.381   Cond. No.                         1.00\n",
       "==============================================================================\n",
       "\n",
       "Notes:\n",
       "[1] R² is computed without centering (uncentered) since the model does not contain a constant.\n",
       "[2] Standard Errors assume that the covariance matrix of the errors is correctly specified.\n",
       "\"\"\""
      ]
     },
     "execution_count": 53,
     "metadata": {},
     "output_type": "execute_result"
    }
   ],
   "source": [
    "import statsmodels.api as sm\n",
    "\n",
    "results = sm.OLS(y, x).fit()\n",
    "\n",
    "results.summary()"
   ]
  },
  {
   "cell_type": "code",
   "execution_count": 54,
   "id": "464f16a0",
   "metadata": {},
   "outputs": [
    {
     "data": {
      "image/png": "[encoded data removed]",
      "text/plain": [
       "<Figure size 640x480 with 1 Axes>"
      ]
     },
     "metadata": {},
     "output_type": "display_data"
    }
   ],
   "source": [
    "fig, ax = plt.subplots()\n",
    "\n",
    "ax.scatter(x, y);\n",
    "ax.axline(xy1=(0, 0), slope=results.params[0], color='r', linestyle='--');"
   ]
  },
  {
   "cell_type": "markdown",
   "id": "6ed859da",
   "metadata": {},
   "source": [
    "As expected, the predictor $x$ is highly significant, with a p-value effectively equal to zero. The estimated coefficient for $x$ is 1.9762, which is very close to the true underlying value of 2 used to generate the data. The standard error of 0.117 suggests a tight confidence interval that includes the true coefficient, confirming the accuracy of the estimate.\n",
    "\n",
    "The R-squared (uncentered) value of 0.743 indicates that approximately 74% of the variance in $y$ is explained by the model, which is consistent with the strong linear relationship in the data. The remaining 26% reflects noise introduced by the random error term. Since the model is a simple univariate regression without an intercept, it is less flexible, but still performs well given the structure of the data."
   ]
  },
  {
   "cell_type": "code",
   "execution_count": 55,
   "id": "4924b53f",
   "metadata": {},
   "outputs": [
    {
     "data": {
      "text/html": [
       "<table class=\"simpletable\">\n",
       "<caption>OLS Regression Results</caption>\n",
       "<tr>\n",
       "  <th>Dep. Variable:</th>            <td>y</td>        <th>  R-squared (uncentered):</th>      <td>   0.743</td>\n",
       "</tr>\n",
       "<tr>\n",
       "  <th>Model:</th>                   <td>OLS</td>       <th>  Adj. R-squared (uncentered):</th> <td>   0.740</td>\n",
       "</tr>\n",
       "<tr>\n",
       "  <th>Method:</th>             <td>Least Squares</td>  <th>  F-statistic:       </th>          <td>   285.6</td>\n",
       "</tr>\n",
       "<tr>\n",
       "  <th>Date:</th>             <td>Fri, 18 Jul 2025</td> <th>  Prob (F-statistic):</th>          <td>6.23e-31</td>\n",
       "</tr>\n",
       "<tr>\n",
       "  <th>Time:</th>                 <td>16:23:38</td>     <th>  Log-Likelihood:    </th>          <td> -58.349</td>\n",
       "</tr>\n",
       "<tr>\n",
       "  <th>No. Observations:</th>      <td>   100</td>      <th>  AIC:               </th>          <td>   118.7</td>\n",
       "</tr>\n",
       "<tr>\n",
       "  <th>Df Residuals:</th>          <td>    99</td>      <th>  BIC:               </th>          <td>   121.3</td>\n",
       "</tr>\n",
       "<tr>\n",
       "  <th>Df Model:</th>              <td>     1</td>      <th>                     </th>              <td> </td>   \n",
       "</tr>\n",
       "<tr>\n",
       "  <th>Covariance Type:</th>      <td>nonrobust</td>    <th>                     </th>              <td> </td>   \n",
       "</tr>\n",
       "</table>\n",
       "<table class=\"simpletable\">\n",
       "<tr>\n",
       "   <td></td>     <th>coef</th>     <th>std err</th>      <th>t</th>      <th>P>|t|</th>  <th>[0.025</th>    <th>0.975]</th>  \n",
       "</tr>\n",
       "<tr>\n",
       "  <th>x1</th> <td>    0.3757</td> <td>    0.022</td> <td>   16.898</td> <td> 0.000</td> <td>    0.332</td> <td>    0.420</td>\n",
       "</tr>\n",
       "</table>\n",
       "<table class=\"simpletable\">\n",
       "<tr>\n",
       "  <th>Omnibus:</th>       <td>13.156</td> <th>  Durbin-Watson:     </th> <td>   2.034</td>\n",
       "</tr>\n",
       "<tr>\n",
       "  <th>Prob(Omnibus):</th> <td> 0.001</td> <th>  Jarque-Bera (JB):  </th> <td>  22.596</td>\n",
       "</tr>\n",
       "<tr>\n",
       "  <th>Skew:</th>          <td>-0.528</td> <th>  Prob(JB):          </th> <td>1.24e-05</td>\n",
       "</tr>\n",
       "<tr>\n",
       "  <th>Kurtosis:</th>      <td> 5.075</td> <th>  Cond. No.          </th> <td>    1.00</td>\n",
       "</tr>\n",
       "</table><br/><br/>Notes:<br/>[1] R² is computed without centering (uncentered) since the model does not contain a constant.<br/>[2] Standard Errors assume that the covariance matrix of the errors is correctly specified."
      ],
      "text/latex": [
       "\\begin{center}\n",
       "\\begin{tabular}{lclc}\n",
       "\\toprule\n",
       "\\textbf{Dep. Variable:}    &        y         & \\textbf{  R-squared (uncentered):}      &     0.743   \\\\\n",
       "\\textbf{Model:}            &       OLS        & \\textbf{  Adj. R-squared (uncentered):} &     0.740   \\\\\n",
       "\\textbf{Method:}           &  Least Squares   & \\textbf{  F-statistic:       }          &     285.6   \\\\\n",
       "\\textbf{Date:}             & Fri, 18 Jul 2025 & \\textbf{  Prob (F-statistic):}          &  6.23e-31   \\\\\n",
       "\\textbf{Time:}             &     16:23:38     & \\textbf{  Log-Likelihood:    }          &   -58.349   \\\\\n",
       "\\textbf{No. Observations:} &         100      & \\textbf{  AIC:               }          &     118.7   \\\\\n",
       "\\textbf{Df Residuals:}     &          99      & \\textbf{  BIC:               }          &     121.3   \\\\\n",
       "\\textbf{Df Model:}         &           1      & \\textbf{                     }          &             \\\\\n",
       "\\textbf{Covariance Type:}  &    nonrobust     & \\textbf{                     }          &             \\\\\n",
       "\\bottomrule\n",
       "\\end{tabular}\n",
       "\\begin{tabular}{lcccccc}\n",
       "            & \\textbf{coef} & \\textbf{std err} & \\textbf{t} & \\textbf{P$> |$t$|$} & \\textbf{[0.025} & \\textbf{0.975]}  \\\\\n",
       "\\midrule\n",
       "\\textbf{x1} &       0.3757  &        0.022     &    16.898  &         0.000        &        0.332    &        0.420     \\\\\n",
       "\\bottomrule\n",
       "\\end{tabular}\n",
       "\\begin{tabular}{lclc}\n",
       "\\textbf{Omnibus:}       & 13.156 & \\textbf{  Durbin-Watson:     } &    2.034  \\\\\n",
       "\\textbf{Prob(Omnibus):} &  0.001 & \\textbf{  Jarque-Bera (JB):  } &   22.596  \\\\\n",
       "\\textbf{Skew:}          & -0.528 & \\textbf{  Prob(JB):          } & 1.24e-05  \\\\\n",
       "\\textbf{Kurtosis:}      &  5.075 & \\textbf{  Cond. No.          } &     1.00  \\\\\n",
       "\\bottomrule\n",
       "\\end{tabular}\n",
       "%\\caption{OLS Regression Results}\n",
       "\\end{center}\n",
       "\n",
       "Notes: \\newline\n",
       " [1] R² is computed without centering (uncentered) since the model does not contain a constant. \\newline\n",
       " [2] Standard Errors assume that the covariance matrix of the errors is correctly specified."
      ],
      "text/plain": [
       "<class 'statsmodels.iolib.summary.Summary'>\n",
       "\"\"\"\n",
       "                                 OLS Regression Results                                \n",
       "=======================================================================================\n",
       "Dep. Variable:                      y   R-squared (uncentered):                   0.743\n",
       "Model:                            OLS   Adj. R-squared (uncentered):              0.740\n",
       "Method:                 Least Squares   F-statistic:                              285.6\n",
       "Date:                Fri, 18 Jul 2025   Prob (F-statistic):                    6.23e-31\n",
       "Time:                        16:23:38   Log-Likelihood:                         -58.349\n",
       "No. Observations:                 100   AIC:                                      118.7\n",
       "Df Residuals:                      99   BIC:                                      121.3\n",
       "Df Model:                           1                                                  \n",
       "Covariance Type:            nonrobust                                                  \n",
       "==============================================================================\n",
       "                 coef    std err          t      P>|t|      [0.025      0.975]\n",
       "------------------------------------------------------------------------------\n",
       "x1             0.3757      0.022     16.898      0.000       0.332       0.420\n",
       "==============================================================================\n",
       "Omnibus:                       13.156   Durbin-Watson:                   2.034\n",
       "Prob(Omnibus):                  0.001   Jarque-Bera (JB):               22.596\n",
       "Skew:                          -0.528   Prob(JB):                     1.24e-05\n",
       "Kurtosis:                       5.075   Cond. No.                         1.00\n",
       "==============================================================================\n",
       "\n",
       "Notes:\n",
       "[1] R² is computed without centering (uncentered) since the model does not contain a constant.\n",
       "[2] Standard Errors assume that the covariance matrix of the errors is correctly specified.\n",
       "\"\"\""
      ]
     },
     "execution_count": 55,
     "metadata": {},
     "output_type": "execute_result"
    }
   ],
   "source": [
    "import statsmodels.api as sm\n",
    "\n",
    "results = sm.OLS(x, y).fit()\n",
    "\n",
    "results.summary()"
   ]
  },
  {
   "cell_type": "code",
   "execution_count": 56,
   "id": "c2854e9b",
   "metadata": {},
   "outputs": [
    {
     "data": {
      "image/png": "[encoded data removed]",
      "text/plain": [
       "<Figure size 640x480 with 1 Axes>"
      ]
     },
     "metadata": {},
     "output_type": "display_data"
    }
   ],
   "source": [
    "fig, ax = plt.subplots()\n",
    "\n",
    "ax.scatter(y, x);\n",
    "ax.axline(xy1=(0, 0), slope=results.params[0], color='r', linestyle='--');"
   ]
  },
  {
   "cell_type": "markdown",
   "id": "e6be5daf",
   "metadata": {},
   "source": [
    "This time, something unexpected happens. Intuitively, we might expect that the slope from regressing $x$ onto $y$ would be the inverse of the slope from regressing $y$ onto $x$, in this case, $0.5$. However, the slope we found is about $0.37$ with a standard error of $0.022$, and this interval does not contain the expected value $0.5$. Why is this?\n",
    "\n",
    "We know the regression is performed without an intercept, so the means $\\bar{x}$ and $\\bar{y}$ are effectively zero, which leads to the following formulas for the slopes:\n",
    "\n",
    "$$\n",
    "\\hat{\\beta}_{yx} = \\frac{\\sum x_i y_i}{\\sum x_i^2} \\quad \\text{and} \\quad \\hat{\\beta}_{xy} = \\frac{\\sum x_i y_i}{\\sum y_i^2}.\n",
    "$$\n",
    "\n",
    "For $\\hat{\\beta}_{xy}$ to be exactly the reciprocal of $\\hat{\\beta}_{yx}$, the following must hold:\n",
    "\n",
    "$$\n",
    "\\hat{\\beta}_{xy} = \\frac{1}{\\hat{\\beta}_{yx}} \\quad \\Longrightarrow \\quad \\frac{\\sum x_i y_i}{\\sum x_i^2} = \\frac{\\sum y_i^2}{\\sum x_i y_i} \\quad \\Longrightarrow \\quad (\\sum x_i y_i)^2 = \\sum x_i^2 \\cdot \\sum y_i^2.\n",
    "$$\n",
    "\n",
    "This equality is true only when $x$ and $y$ are perfectly correlated, i.e., when the points lie exactly on a line without any noise.\n",
    "\n",
    "Since in our case $y = 2x + \\varepsilon$ with noise $\\varepsilon$, $x$ and $y$ are not perfectly correlated. Therefore, the slope $\\hat{\\beta}_{xy}$ from regressing $x$ on $y$ deviates from the true reciprocal value $1/2$."
   ]
  },
  {
   "cell_type": "markdown",
   "id": "a28f0768",
   "metadata": {},
   "source": [
    "Let's prove:\n",
    "\n",
    "$$\n",
    "\\text{t-stat} = \\frac{(\\sqrt{n-1}) \\sum_{i=1}^n x_i y_i}{\\sqrt{ \\left( \\sum_{i=1}^n x_i^2 \\right) \\left( \\sum_{i=1}^n y_i^2 \\right) - \\left( \\sum_{i=1}^n x_i y_i \\right)^2 }}\n",
    "$$\n",
    "\n",
    "We have:\n",
    "\n",
    "$$\n",
    "\\text{SE}(\\hat{\\beta}) = \\sqrt{ \\frac{ \\sum_{i=1}^n (y_i - x_i \\hat{\\beta})^2 }{ (n - 1) \\sum_{i=1}^n x_i^2 } }\n",
    "$$\n",
    "\n",
    "and:\n",
    "\n",
    "$$\n",
    "\\hat{\\beta} = \\frac{ \\sum x_i y_i }{ \\sum x_i^2 }\n",
    "$$\n",
    "\n",
    "Therefore:\n",
    "\n",
    "$$\n",
    "\\text{t-stat} = \\frac{ \\hat{\\beta} }{ \\text{SE}(\\hat{\\beta}) } \n",
    "= \\frac{ \\sum x_i y_i }{ \\sum x_i^2 } \\cdot \\frac{ \\sqrt{n - 1} \\cdot \\sqrt{ \\sum x_i^2 } }{ \\sqrt{ \\sum (y_i - \\hat{\\beta} x_i)^2 } }\n",
    "$$\n",
    "\n",
    "Now we simplify the denominator:\n",
    "\n",
    "$$\n",
    "\\sum (y_i - \\hat{\\beta} x_i)^2 \n",
    "= \\sum y_i^2 + \\hat{\\beta}^2 \\sum x_i^2 - 2 \\hat{\\beta} \\sum x_i y_i\n",
    "$$\n",
    "\n",
    "So we get:\n",
    "\n",
    "$$\n",
    "\\text{t-stat} \n",
    "= \\frac{ \\sqrt{n - 1} \\sum x_i y_i }{ \\sqrt{ \\sum x_i^2 } \\cdot \\sqrt{ \\sum y_i^2 + \\hat{\\beta}^2 \\sum x_i^2 - 2 \\hat{\\beta} \\sum x_i y_i } }\n",
    "$$\n",
    "\n",
    "Factor $\\sum x_i^2$ into the outer square root:\n",
    "\n",
    "$$\n",
    "= \\frac{ \\sqrt{n - 1} \\sum x_i y_i }{ \\sqrt{ \\sum x_i^2 \\cdot \\left( \\sum y_i^2 + \\hat{\\beta}^2 \\sum x_i^2 - 2 \\hat{\\beta} \\sum x_i y_i \\right) } }\n",
    "$$\n",
    "\n",
    "Now expand:\n",
    "\n",
    "$$\n",
    "= \\frac{ \\sqrt{n - 1} \\sum x_i y_i }{ \\sqrt{ \\sum x_i^2 \\sum y_i^2 + \\hat{\\beta}^2 (\\sum x_i^2)^2 - 2 \\hat{\\beta} \\sum x_i^2 \\sum x_i y_i } }\n",
    "$$\n",
    "\n",
    "Substitute $\\hat{\\beta} = \\frac{ \\sum x_i y_i }{ \\sum x_i^2 }$:\n",
    "\n",
    "First, note:\n",
    "\n",
    "$$\n",
    "\\hat{\\beta}^2 (\\sum x_i^2)^2 = (\\sum x_i y_i)^2\n",
    "\\quad \\text{and} \\quad\n",
    "2 \\hat{\\beta} \\sum x_i^2 \\sum x_i y_i = 2 (\\sum x_i y_i)^2\n",
    "$$\n",
    "\n",
    "So the denominator becomes:\n",
    "\n",
    "$$\n",
    "\\sum x_i^2 \\sum y_i^2 + (\\sum x_i y_i)^2 - 2 (\\sum x_i y_i)^2 = \\sum x_i^2 \\sum y_i^2 - (\\sum x_i y_i)^2\n",
    "$$\n",
    "\n",
    "Thus, we conclude:\n",
    "\n",
    "$$\n",
    "\\text{t-stat} = \\frac{ (\\sqrt{n - 1}) \\sum x_i y_i }{ \\sqrt{ (\\sum x_i^2)(\\sum y_i^2) - (\\sum x_i y_i)^2 } }\n",
    "$$"
   ]
  },
  {
   "cell_type": "code",
   "execution_count": 57,
   "id": "fa332e1b",
   "metadata": {},
   "outputs": [
    {
     "name": "stdout",
     "output_type": "stream",
     "text": [
      "OLS t-stat:     16.89842\n",
      "Manual t-stat:  16.89842\n"
     ]
    }
   ],
   "source": [
    "tstat_ols = results.tvalues[0]\n",
    "\n",
    "sum_xy = np.sum(x * y)\n",
    "sum_x2 = np.sum(x ** 2)\n",
    "sum_y2 = np.sum(y ** 2)\n",
    "\n",
    "n = len(x)\n",
    "\n",
    "tstat_manual = (np.sqrt(n - 1) * sum_xy) / np.sqrt(sum_x2 * sum_y2 - sum_xy ** 2)\n",
    "\n",
    "print(f\"OLS t-stat:     {tstat_ols:.5f}\")\n",
    "print(f\"Manual t-stat:  {tstat_manual:.5f}\")"
   ]
  },
  {
   "cell_type": "markdown",
   "id": "29439d4b",
   "metadata": {},
   "source": [
    "We showed in (d) that the t-statistic for the regression of $y$ onto $x$ (without intercept) is:\n",
    "\n",
    "$$\n",
    "\\text{t-stat} = \\frac{ \\sqrt{n - 1} \\sum x_i y_i }{ \\sqrt{ \\left( \\sum x_i^2 \\right) \\left( \\sum y_i^2 \\right) - \\left( \\sum x_i y_i \\right)^2 } }\n",
    "$$\n",
    "\n",
    "Now suppose we regress $x$ onto $y$. Then in this formula, every instance of $x_i$ and $y_i$ swaps roles.\n",
    "\n",
    "So the t-statistic becomes:\n",
    "\n",
    "$$\n",
    "\\text{t-stat} = \\frac{ \\sqrt{n - 1} \\sum y_i x_i }{ \\sqrt{ \\left( \\sum y_i^2 \\right) \\left( \\sum x_i^2 \\right) - \\left( \\sum y_i x_i \\right)^2 } }\n",
    "$$\n",
    "\n",
    "But since multiplication and summation are commutative:\n",
    "\n",
    "* $\\sum x_i y_i = \\sum y_i x_i$\n",
    "* $\\sum x_i^2$ and $\\sum y_i^2$ remain in the same product\n",
    "* The denominator remains the same because it is symmetric in $x_i$ and $y_i$\n",
    "\n",
    "So the formula is identical after swapping — thus, the t-statistic is the same whether you regress $y$ on $x$ or $x$ on $y$, provided there's no intercept."
   ]
  },
  {
   "cell_type": "code",
   "execution_count": 58,
   "id": "e3027231",
   "metadata": {},
   "outputs": [],
   "source": [
    "x_with_intercept = sm.add_constant(x)\n",
    "y_with_intercept = sm.add_constant(y)\n",
    "\n",
    "results_xy = sm.OLS(y, x_with_intercept).fit()\n",
    "results_yx = sm.OLS(x, y_with_intercept).fit()"
   ]
  },
  {
   "cell_type": "code",
   "execution_count": 61,
   "id": "a74c97f8",
   "metadata": {},
   "outputs": [
    {
     "name": "stdout",
     "output_type": "stream",
     "text": [
      "t-stat (y ~ x): 16.73406\n",
      "t-stat (x ~ y): 16.73406\n"
     ]
    }
   ],
   "source": [
    "t_y_on_x = results_yx.tvalues[1]\n",
    "t_x_on_y = results_xy.tvalues[1]\n",
    "\n",
    "print(f\"t-stat (y ~ x): {t_y_on_x:.5f}\")\n",
    "print(f\"t-stat (x ~ y): {t_x_on_y:.5f}\")"
   ]
  }
 ],
 "metadata": {
  "kernelspec": {
   "display_name": ".venv",
   "language": "python",
   "name": "python3"
  },
  "language_info": {
   "codemirror_mode": {
    "name": "ipython",
    "version": 3
   },
   "file_extension": ".py",
   "mimetype": "text/x-python",
   "name": "python",
   "nbconvert_exporter": "python",
   "pygments_lexer": "ipython3",
   "version": "3.13.3"
  }
 },
 "nbformat": 4,
 "nbformat_minor": 5
}
