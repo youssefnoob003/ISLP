{
 "cells": [
  {
   "cell_type": "markdown",
   "id": "d648dae8",
   "metadata": {},
   "source": [
    "When the regression is performed without an intercept, the means $\\bar{x}$ and $\\bar{y}$ are effectively zero, which leads to the following formulas for the slopes:\n",
    "\n",
    "$$\n",
    "\\hat{\\beta}_{yx} = \\frac{\\sum x_i y_i}{\\sum x_i^2} \\quad \\text{and} \\quad \\hat{\\beta}_{xy} = \\frac{\\sum x_i y_i}{\\sum y_i^2}.\n",
    "$$\n",
    "\n",
    "For $\\hat{\\beta}_{xy}$ to be exactly the same as $\\hat{\\beta}_{yx}$, the following must hold:\n",
    "\n",
    "$$\n",
    "\\hat{\\beta}_{xy} = \\hat{\\beta}_{yx} \\quad \\Longrightarrow \\quad \\frac{\\sum x_i y_i}{\\sum x_i^2} = \\frac{\\sum x_i y_i}{\\sum y_i^2} \\quad \\Longrightarrow \\quad \\sum x_i^2 = \\sum y_i^2\n",
    "$$\n"
   ]
  },
  {
   "cell_type": "code",
   "execution_count": null,
   "id": "cbf0d185",
   "metadata": {},
   "outputs": [],
   "source": [
    "import numpy as np\n",
    "\n",
    "rng = np.random.default_rng(1)\n",
    "x = rng.normal(size=100)\n",
    "y = x + rng.normal(size=100)"
   ]
  },
  {
   "cell_type": "markdown",
   "id": "e503fede",
   "metadata": {},
   "source": [
    "Even if you start with $y=x$, adding noise breaks the perfect linear relationship and causes the regression coefficients for y onto x and x onto y to differ."
   ]
  },
  {
   "cell_type": "code",
   "execution_count": 14,
   "id": "f0c4c8f8",
   "metadata": {},
   "outputs": [
    {
     "name": "stdout",
     "output_type": "stream",
     "text": [
      "Slope of y on x (no intercept): 0.9762423774420512\n",
      "Slope of x on y (no intercept): 0.4231534923065386\n"
     ]
    }
   ],
   "source": [
    "import statsmodels.api as sm\n",
    "\n",
    "results_xy = sm.OLS(y, x).fit()\n",
    "results_yx = sm.OLS(x, y).fit()\n",
    "\n",
    "print(\"Slope of y on x (no intercept):\", results_xy.params[0])\n",
    "print(\"Slope of x on y (no intercept):\", results_yx.params[0])"
   ]
  },
  {
   "cell_type": "code",
   "execution_count": 15,
   "id": "0bfd4ad9",
   "metadata": {},
   "outputs": [],
   "source": [
    "y = -x.copy()"
   ]
  },
  {
   "cell_type": "code",
   "execution_count": 16,
   "id": "0e6c4bcf",
   "metadata": {},
   "outputs": [
    {
     "name": "stdout",
     "output_type": "stream",
     "text": [
      "Slope of y on x (no intercept): -1.0\n",
      "Slope of x on y (no intercept): -1.0\n"
     ]
    }
   ],
   "source": [
    "import statsmodels.api as sm\n",
    "\n",
    "results_xy = sm.OLS(y, x).fit()\n",
    "results_yx = sm.OLS(x, y).fit()\n",
    "\n",
    "print(\"Slope of y on x (no intercept):\", results_xy.params[0])\n",
    "print(\"Slope of x on y (no intercept):\", results_yx.params[0])"
   ]
  }
 ],
 "metadata": {
  "kernelspec": {
   "display_name": ".venv",
   "language": "python",
   "name": "python3"
  },
  "language_info": {
   "codemirror_mode": {
    "name": "ipython",
    "version": 3
   },
   "file_extension": ".py",
   "mimetype": "text/x-python",
   "name": "python",
   "nbconvert_exporter": "python",
   "pygments_lexer": "ipython3",
   "version": "3.13.3"
  }
 },
 "nbformat": 4,
 "nbformat_minor": 5
}
