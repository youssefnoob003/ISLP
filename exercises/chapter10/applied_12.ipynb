{
 "cells": [
  {
   "cell_type": "code",
   "execution_count": 7,
   "id": "1c496d9a",
   "metadata": {},
   "outputs": [],
   "source": [
    "import numpy as np, pandas as pd\n",
    "from sklearn.preprocessing import StandardScaler\n",
    "from ISLP import load_data\n",
    "import torch\n",
    "from torch import nn\n",
    "from torch.utils.data import TensorDataset\n",
    "from torch.utils.data import DataLoader, TensorDataset\n",
    "from sklearn.metrics import r2_score"
   ]
  },
  {
   "cell_type": "code",
   "execution_count": 8,
   "id": "82ae0441",
   "metadata": {},
   "outputs": [
    {
     "data": {
      "text/plain": [
       "Index(['DJ_return_1', 'log_volume_1', 'log_volatility_1', 'DJ_return_2',\n",
       "       'log_volume_2', 'log_volatility_2', 'DJ_return_3', 'log_volume_3',\n",
       "       'log_volatility_3', 'DJ_return_4', 'log_volume_4', 'log_volatility_4',\n",
       "       'DJ_return_5', 'log_volume_5', 'log_volatility_5', 'mon', 'tues', 'wed',\n",
       "       'thur', 'fri'],\n",
       "      dtype='object')"
      ]
     },
     "execution_count": 8,
     "metadata": {},
     "output_type": "execute_result"
    }
   ],
   "source": [
    "NYSE = load_data('NYSE')\n",
    "cols = ['DJ_return', 'log_volume', 'log_volatility']\n",
    "X = pd.DataFrame(StandardScaler(\n",
    "                     with_mean=True,\n",
    "                     with_std=True).fit_transform(NYSE[cols]),\n",
    "                 columns=NYSE[cols].columns,\n",
    "                 index=NYSE.index)\n",
    "for lag in range(1, 6):\n",
    "    for col in cols:\n",
    "        newcol = np.zeros(X.shape[0]) * np.nan\n",
    "        newcol[lag:] = X[col].values[:-lag]\n",
    "        X.insert(len(X.columns), \"{0}_{1}\".format(col, lag), newcol)\n",
    "X.insert(len(X.columns), 'train', NYSE['train'])\n",
    "X = X.dropna()\n",
    "Y, train = X['log_volume'], X['train']\n",
    "X = X.drop(columns=['train'] + cols)\n",
    "X_day = pd.concat([X, \n",
    "                  pd.get_dummies(NYSE['day_of_week'])],\n",
    "                  axis=1).dropna()\n",
    "X_day.columns\n"
   ]
  },
  {
   "cell_type": "code",
   "execution_count": 9,
   "id": "4f67af53",
   "metadata": {},
   "outputs": [
    {
     "name": "stdout",
     "output_type": "stream",
     "text": [
      "Test R^2: 0.44066112086986786\n"
     ]
    }
   ],
   "source": [
    "train_idx = X_day.index[NYSE.loc[X_day.index, 'train'] == 1]\n",
    "test_idx = X_day.index[NYSE.loc[X_day.index, 'train'] == 0]\n",
    "\n",
    "X_train, X_test = X_day.loc[train_idx], X_day.loc[test_idx]\n",
    "Y_train, Y_test = Y.loc[train_idx], Y.loc[test_idx]\n",
    "\n",
    "num_lags = 5\n",
    "num_numeric_cols = 3\n",
    "numeric_lag_cols = [f'{col}_{lag}' for lag in range(1, num_lags+1) for col in ['DJ_return', 'log_volume', 'log_volatility']]\n",
    "\n",
    "X_train_numeric = X_train[numeric_lag_cols].values.reshape(-1, num_lags, num_numeric_cols)\n",
    "X_test_numeric = X_test[numeric_lag_cols].values.reshape(-1, num_lags, num_numeric_cols)\n",
    "\n",
    "X_train_cat = np.repeat(X_train[['mon','tues','wed','thur','fri']].values[:, np.newaxis, :], num_lags, axis=1)\n",
    "X_test_cat = np.repeat(X_test[['mon','tues','wed','thur','fri']].values[:, np.newaxis, :], num_lags, axis=1)\n",
    "\n",
    "X_train_rnn = np.concatenate([X_train_numeric, X_train_cat], axis=2)\n",
    "X_test_rnn = np.concatenate([X_test_numeric, X_test_cat], axis=2)\n",
    "\n",
    "X_train_tensor = torch.tensor(X_train_rnn, dtype=torch.float32)\n",
    "X_test_tensor = torch.tensor(X_test_rnn, dtype=torch.float32)\n",
    "Y_train_tensor = torch.tensor(Y_train.values, dtype=torch.float32).unsqueeze(1)\n",
    "Y_test_tensor = torch.tensor(Y_test.values, dtype=torch.float32).unsqueeze(1)\n",
    "\n",
    "train_dataset = TensorDataset(X_train_tensor, Y_train_tensor)\n",
    "train_loader = DataLoader(train_dataset, batch_size=32, shuffle=True)\n",
    "\n",
    "class RNNModel(nn.Module):\n",
    "    def __init__(self, input_size, hidden_size=32):\n",
    "        super(RNNModel, self).__init__()\n",
    "        self.rnn = nn.RNN(input_size, hidden_size, batch_first=True)\n",
    "        self.fc = nn.Linear(hidden_size, 1)\n",
    "    \n",
    "    def forward(self, x):\n",
    "        out, _ = self.rnn(x)\n",
    "        out = out[:, -1, :]\n",
    "        out = self.fc(out)\n",
    "        return out\n",
    "\n",
    "input_size = X_train_rnn.shape[2]\n",
    "model = RNNModel(input_size)\n",
    "\n",
    "criterion = nn.MSELoss()\n",
    "optimizer = torch.optim.Adam(model.parameters(), lr=0.001)\n",
    "\n",
    "epochs = 50\n",
    "for epoch in range(epochs):\n",
    "    for xb, yb in train_loader:\n",
    "        optimizer.zero_grad()\n",
    "        preds = model(xb)\n",
    "        loss = criterion(preds, yb)\n",
    "        loss.backward()\n",
    "        optimizer.step()\n",
    "\n",
    "model.eval()\n",
    "with torch.no_grad():\n",
    "    Y_pred = model(X_test_tensor).numpy()\n",
    "\n",
    "r2 = r2_score(Y_test, Y_pred)\n",
    "print(\"Test R^2:\", r2)\n"
   ]
  }
 ],
 "metadata": {
  "kernelspec": {
   "display_name": ".venv",
   "language": "python",
   "name": "python3"
  },
  "language_info": {
   "codemirror_mode": {
    "name": "ipython",
    "version": 3
   },
   "file_extension": ".py",
   "mimetype": "text/x-python",
   "name": "python",
   "nbconvert_exporter": "python",
   "pygments_lexer": "ipython3",
   "version": "3.10.12"
  }
 },
 "nbformat": 4,
 "nbformat_minor": 5
}
